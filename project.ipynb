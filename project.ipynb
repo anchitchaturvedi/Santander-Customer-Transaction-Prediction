{
 "cells": [
  {
   "cell_type": "code",
   "execution_count": 34,
   "metadata": {},
   "outputs": [],
   "source": [
    "import pandas as pd"
   ]
  },
  {
   "cell_type": "code",
   "execution_count": 4,
   "metadata": {},
   "outputs": [],
   "source": [
    "df = pd.read_csv('train.csv')"
   ]
  },
  {
   "cell_type": "code",
   "execution_count": 3,
   "metadata": {},
   "outputs": [
    {
     "data": {
      "text/plain": [
       "ID_code    0\n",
       "target     0\n",
       "var_0      0\n",
       "var_1      0\n",
       "var_2      0\n",
       "var_3      0\n",
       "var_4      0\n",
       "var_5      0\n",
       "var_6      0\n",
       "var_7      0\n",
       "var_8      0\n",
       "var_9      0\n",
       "var_10     0\n",
       "var_11     0\n",
       "var_12     0\n",
       "var_13     0\n",
       "var_14     0\n",
       "var_15     0\n",
       "var_16     0\n",
       "var_17     0\n",
       "var_18     0\n",
       "var_19     0\n",
       "var_20     0\n",
       "var_21     0\n",
       "var_22     0\n",
       "var_23     0\n",
       "var_24     0\n",
       "var_25     0\n",
       "var_26     0\n",
       "var_27     0\n",
       "var_28     0\n",
       "var_29     0\n",
       "var_30     0\n",
       "var_31     0\n",
       "var_32     0\n",
       "var_33     0\n",
       "var_34     0\n",
       "var_35     0\n",
       "var_36     0\n",
       "var_37     0\n",
       "var_38     0\n",
       "var_39     0\n",
       "var_40     0\n",
       "var_41     0\n",
       "var_42     0\n",
       "var_43     0\n",
       "var_44     0\n",
       "var_45     0\n",
       "var_46     0\n",
       "var_47     0\n",
       "var_48     0\n",
       "var_49     0\n",
       "var_50     0\n",
       "var_51     0\n",
       "var_52     0\n",
       "var_53     0\n",
       "var_54     0\n",
       "var_55     0\n",
       "var_56     0\n",
       "var_57     0\n",
       "var_58     0\n",
       "var_59     0\n",
       "var_60     0\n",
       "var_61     0\n",
       "var_62     0\n",
       "var_63     0\n",
       "var_64     0\n",
       "var_65     0\n",
       "var_66     0\n",
       "var_67     0\n",
       "var_68     0\n",
       "var_69     0\n",
       "var_70     0\n",
       "var_71     0\n",
       "var_72     0\n",
       "var_73     0\n",
       "var_74     0\n",
       "var_75     0\n",
       "var_76     0\n",
       "var_77     0\n",
       "var_78     0\n",
       "var_79     0\n",
       "var_80     0\n",
       "var_81     0\n",
       "var_82     0\n",
       "var_83     0\n",
       "var_84     0\n",
       "var_85     0\n",
       "var_86     0\n",
       "var_87     0\n",
       "var_88     0\n",
       "var_89     0\n",
       "var_90     0\n",
       "var_91     0\n",
       "var_92     0\n",
       "var_93     0\n",
       "var_94     0\n",
       "var_95     0\n",
       "var_96     0\n",
       "var_97     0\n",
       "var_98     0\n",
       "var_99     0\n",
       "var_100    0\n",
       "var_101    0\n",
       "var_102    0\n",
       "var_103    0\n",
       "var_104    0\n",
       "var_105    0\n",
       "var_106    0\n",
       "var_107    0\n",
       "var_108    0\n",
       "var_109    0\n",
       "var_110    0\n",
       "var_111    0\n",
       "var_112    0\n",
       "var_113    0\n",
       "var_114    0\n",
       "var_115    0\n",
       "var_116    0\n",
       "var_117    0\n",
       "var_118    0\n",
       "var_119    0\n",
       "var_120    0\n",
       "var_121    0\n",
       "var_122    0\n",
       "var_123    0\n",
       "var_124    0\n",
       "var_125    0\n",
       "var_126    0\n",
       "var_127    0\n",
       "var_128    0\n",
       "var_129    0\n",
       "var_130    0\n",
       "var_131    0\n",
       "var_132    0\n",
       "var_133    0\n",
       "var_134    0\n",
       "var_135    0\n",
       "var_136    0\n",
       "var_137    0\n",
       "var_138    0\n",
       "var_139    0\n",
       "var_140    0\n",
       "var_141    0\n",
       "var_142    0\n",
       "var_143    0\n",
       "var_144    0\n",
       "var_145    0\n",
       "var_146    0\n",
       "var_147    0\n",
       "var_148    0\n",
       "var_149    0\n",
       "var_150    0\n",
       "var_151    0\n",
       "var_152    0\n",
       "var_153    0\n",
       "var_154    0\n",
       "var_155    0\n",
       "var_156    0\n",
       "var_157    0\n",
       "var_158    0\n",
       "var_159    0\n",
       "var_160    0\n",
       "var_161    0\n",
       "var_162    0\n",
       "var_163    0\n",
       "var_164    0\n",
       "var_165    0\n",
       "var_166    0\n",
       "var_167    0\n",
       "var_168    0\n",
       "var_169    0\n",
       "var_170    0\n",
       "var_171    0\n",
       "var_172    0\n",
       "var_173    0\n",
       "var_174    0\n",
       "var_175    0\n",
       "var_176    0\n",
       "var_177    0\n",
       "var_178    0\n",
       "var_179    0\n",
       "var_180    0\n",
       "var_181    0\n",
       "var_182    0\n",
       "var_183    0\n",
       "var_184    0\n",
       "var_185    0\n",
       "var_186    0\n",
       "var_187    0\n",
       "var_188    0\n",
       "var_189    0\n",
       "var_190    0\n",
       "var_191    0\n",
       "var_192    0\n",
       "var_193    0\n",
       "var_194    0\n",
       "var_195    0\n",
       "var_196    0\n",
       "var_197    0\n",
       "var_198    0\n",
       "var_199    0\n",
       "dtype: int64"
      ]
     },
     "execution_count": 3,
     "metadata": {},
     "output_type": "execute_result"
    }
   ],
   "source": [
    "#Checking the number of null values in the dataset.\n",
    "pd.set_option('display.max_rows', 202)\n",
    "df.isnull().sum()"
   ]
  },
  {
   "cell_type": "code",
   "execution_count": 4,
   "metadata": {},
   "outputs": [
    {
     "data": {
      "text/html": [
       "<div>\n",
       "<style scoped>\n",
       "    .dataframe tbody tr th:only-of-type {\n",
       "        vertical-align: middle;\n",
       "    }\n",
       "\n",
       "    .dataframe tbody tr th {\n",
       "        vertical-align: top;\n",
       "    }\n",
       "\n",
       "    .dataframe thead th {\n",
       "        text-align: right;\n",
       "    }\n",
       "</style>\n",
       "<table border=\"1\" class=\"dataframe\">\n",
       "  <thead>\n",
       "    <tr style=\"text-align: right;\">\n",
       "      <th></th>\n",
       "      <th>ID_code</th>\n",
       "      <th>target</th>\n",
       "      <th>var_0</th>\n",
       "      <th>var_1</th>\n",
       "      <th>var_2</th>\n",
       "      <th>var_3</th>\n",
       "      <th>var_4</th>\n",
       "      <th>var_5</th>\n",
       "      <th>var_6</th>\n",
       "      <th>var_7</th>\n",
       "      <th>...</th>\n",
       "      <th>var_190</th>\n",
       "      <th>var_191</th>\n",
       "      <th>var_192</th>\n",
       "      <th>var_193</th>\n",
       "      <th>var_194</th>\n",
       "      <th>var_195</th>\n",
       "      <th>var_196</th>\n",
       "      <th>var_197</th>\n",
       "      <th>var_198</th>\n",
       "      <th>var_199</th>\n",
       "    </tr>\n",
       "  </thead>\n",
       "  <tbody>\n",
       "    <tr>\n",
       "      <th>0</th>\n",
       "      <td>train_0</td>\n",
       "      <td>0</td>\n",
       "      <td>8.9255</td>\n",
       "      <td>-6.7863</td>\n",
       "      <td>11.9081</td>\n",
       "      <td>5.0930</td>\n",
       "      <td>11.4607</td>\n",
       "      <td>-9.2834</td>\n",
       "      <td>5.1187</td>\n",
       "      <td>18.6266</td>\n",
       "      <td>...</td>\n",
       "      <td>4.4354</td>\n",
       "      <td>3.9642</td>\n",
       "      <td>3.1364</td>\n",
       "      <td>1.6910</td>\n",
       "      <td>18.5227</td>\n",
       "      <td>-2.3978</td>\n",
       "      <td>7.8784</td>\n",
       "      <td>8.5635</td>\n",
       "      <td>12.7803</td>\n",
       "      <td>-1.0914</td>\n",
       "    </tr>\n",
       "    <tr>\n",
       "      <th>1</th>\n",
       "      <td>train_1</td>\n",
       "      <td>0</td>\n",
       "      <td>11.5006</td>\n",
       "      <td>-4.1473</td>\n",
       "      <td>13.8588</td>\n",
       "      <td>5.3890</td>\n",
       "      <td>12.3622</td>\n",
       "      <td>7.0433</td>\n",
       "      <td>5.6208</td>\n",
       "      <td>16.5338</td>\n",
       "      <td>...</td>\n",
       "      <td>7.6421</td>\n",
       "      <td>7.7214</td>\n",
       "      <td>2.5837</td>\n",
       "      <td>10.9516</td>\n",
       "      <td>15.4305</td>\n",
       "      <td>2.0339</td>\n",
       "      <td>8.1267</td>\n",
       "      <td>8.7889</td>\n",
       "      <td>18.3560</td>\n",
       "      <td>1.9518</td>\n",
       "    </tr>\n",
       "    <tr>\n",
       "      <th>2</th>\n",
       "      <td>train_2</td>\n",
       "      <td>0</td>\n",
       "      <td>8.6093</td>\n",
       "      <td>-2.7457</td>\n",
       "      <td>12.0805</td>\n",
       "      <td>7.8928</td>\n",
       "      <td>10.5825</td>\n",
       "      <td>-9.0837</td>\n",
       "      <td>6.9427</td>\n",
       "      <td>14.6155</td>\n",
       "      <td>...</td>\n",
       "      <td>2.9057</td>\n",
       "      <td>9.7905</td>\n",
       "      <td>1.6704</td>\n",
       "      <td>1.6858</td>\n",
       "      <td>21.6042</td>\n",
       "      <td>3.1417</td>\n",
       "      <td>-6.5213</td>\n",
       "      <td>8.2675</td>\n",
       "      <td>14.7222</td>\n",
       "      <td>0.3965</td>\n",
       "    </tr>\n",
       "    <tr>\n",
       "      <th>3</th>\n",
       "      <td>train_3</td>\n",
       "      <td>0</td>\n",
       "      <td>11.0604</td>\n",
       "      <td>-2.1518</td>\n",
       "      <td>8.9522</td>\n",
       "      <td>7.1957</td>\n",
       "      <td>12.5846</td>\n",
       "      <td>-1.8361</td>\n",
       "      <td>5.8428</td>\n",
       "      <td>14.9250</td>\n",
       "      <td>...</td>\n",
       "      <td>4.4666</td>\n",
       "      <td>4.7433</td>\n",
       "      <td>0.7178</td>\n",
       "      <td>1.4214</td>\n",
       "      <td>23.0347</td>\n",
       "      <td>-1.2706</td>\n",
       "      <td>-2.9275</td>\n",
       "      <td>10.2922</td>\n",
       "      <td>17.9697</td>\n",
       "      <td>-8.9996</td>\n",
       "    </tr>\n",
       "    <tr>\n",
       "      <th>4</th>\n",
       "      <td>train_4</td>\n",
       "      <td>0</td>\n",
       "      <td>9.8369</td>\n",
       "      <td>-1.4834</td>\n",
       "      <td>12.8746</td>\n",
       "      <td>6.6375</td>\n",
       "      <td>12.2772</td>\n",
       "      <td>2.4486</td>\n",
       "      <td>5.9405</td>\n",
       "      <td>19.2514</td>\n",
       "      <td>...</td>\n",
       "      <td>-1.4905</td>\n",
       "      <td>9.5214</td>\n",
       "      <td>-0.1508</td>\n",
       "      <td>9.1942</td>\n",
       "      <td>13.2876</td>\n",
       "      <td>-1.5121</td>\n",
       "      <td>3.9267</td>\n",
       "      <td>9.5031</td>\n",
       "      <td>17.9974</td>\n",
       "      <td>-8.8104</td>\n",
       "    </tr>\n",
       "  </tbody>\n",
       "</table>\n",
       "<p>5 rows × 202 columns</p>\n",
       "</div>"
      ],
      "text/plain": [
       "   ID_code  target    var_0   var_1    var_2   var_3    var_4   var_5   var_6  \\\n",
       "0  train_0       0   8.9255 -6.7863  11.9081  5.0930  11.4607 -9.2834  5.1187   \n",
       "1  train_1       0  11.5006 -4.1473  13.8588  5.3890  12.3622  7.0433  5.6208   \n",
       "2  train_2       0   8.6093 -2.7457  12.0805  7.8928  10.5825 -9.0837  6.9427   \n",
       "3  train_3       0  11.0604 -2.1518   8.9522  7.1957  12.5846 -1.8361  5.8428   \n",
       "4  train_4       0   9.8369 -1.4834  12.8746  6.6375  12.2772  2.4486  5.9405   \n",
       "\n",
       "     var_7  ...  var_190  var_191  var_192  var_193  var_194  var_195  \\\n",
       "0  18.6266  ...   4.4354   3.9642   3.1364   1.6910  18.5227  -2.3978   \n",
       "1  16.5338  ...   7.6421   7.7214   2.5837  10.9516  15.4305   2.0339   \n",
       "2  14.6155  ...   2.9057   9.7905   1.6704   1.6858  21.6042   3.1417   \n",
       "3  14.9250  ...   4.4666   4.7433   0.7178   1.4214  23.0347  -1.2706   \n",
       "4  19.2514  ...  -1.4905   9.5214  -0.1508   9.1942  13.2876  -1.5121   \n",
       "\n",
       "   var_196  var_197  var_198  var_199  \n",
       "0   7.8784   8.5635  12.7803  -1.0914  \n",
       "1   8.1267   8.7889  18.3560   1.9518  \n",
       "2  -6.5213   8.2675  14.7222   0.3965  \n",
       "3  -2.9275  10.2922  17.9697  -8.9996  \n",
       "4   3.9267   9.5031  17.9974  -8.8104  \n",
       "\n",
       "[5 rows x 202 columns]"
      ]
     },
     "execution_count": 4,
     "metadata": {},
     "output_type": "execute_result"
    }
   ],
   "source": [
    "df.head()"
   ]
  },
  {
   "cell_type": "code",
   "execution_count": 5,
   "metadata": {},
   "outputs": [],
   "source": [
    "#Storing the column names of the numeric columns in a list. \n",
    "cnames = df.columns[2:]"
   ]
  },
  {
   "cell_type": "code",
   "execution_count": 6,
   "metadata": {},
   "outputs": [
    {
     "data": {
      "text/plain": [
       "Index(['var_0', 'var_1', 'var_2', 'var_3', 'var_4', 'var_5', 'var_6', 'var_7',\n",
       "       'var_8', 'var_9',\n",
       "       ...\n",
       "       'var_190', 'var_191', 'var_192', 'var_193', 'var_194', 'var_195',\n",
       "       'var_196', 'var_197', 'var_198', 'var_199'],\n",
       "      dtype='object', length=200)"
      ]
     },
     "execution_count": 6,
     "metadata": {},
     "output_type": "execute_result"
    }
   ],
   "source": [
    "cnames"
   ]
  },
  {
   "cell_type": "code",
   "execution_count": 7,
   "metadata": {},
   "outputs": [],
   "source": [
    "arr = []\n",
    "for i in range(200):\n",
    "    arr.append(0)"
   ]
  },
  {
   "cell_type": "code",
   "execution_count": 8,
   "metadata": {},
   "outputs": [],
   "source": [
    "for i in range(200):\n",
    "    arr[i] = (df.iloc[:,i+2]==0).sum()"
   ]
  },
  {
   "cell_type": "code",
   "execution_count": 9,
   "metadata": {},
   "outputs": [],
   "source": [
    "test = pd.read_csv('test.csv')"
   ]
  },
  {
   "cell_type": "code",
   "execution_count": 10,
   "metadata": {},
   "outputs": [
    {
     "data": {
      "text/plain": [
       "ID_code    0\n",
       "var_0      0\n",
       "var_1      0\n",
       "var_2      0\n",
       "var_3      0\n",
       "var_4      0\n",
       "var_5      0\n",
       "var_6      0\n",
       "var_7      0\n",
       "var_8      0\n",
       "var_9      0\n",
       "var_10     0\n",
       "var_11     0\n",
       "var_12     0\n",
       "var_13     0\n",
       "var_14     0\n",
       "var_15     0\n",
       "var_16     0\n",
       "var_17     0\n",
       "var_18     0\n",
       "var_19     0\n",
       "var_20     0\n",
       "var_21     0\n",
       "var_22     0\n",
       "var_23     0\n",
       "var_24     0\n",
       "var_25     0\n",
       "var_26     0\n",
       "var_27     0\n",
       "var_28     0\n",
       "var_29     0\n",
       "var_30     0\n",
       "var_31     0\n",
       "var_32     0\n",
       "var_33     0\n",
       "var_34     0\n",
       "var_35     0\n",
       "var_36     0\n",
       "var_37     0\n",
       "var_38     0\n",
       "var_39     0\n",
       "var_40     0\n",
       "var_41     0\n",
       "var_42     0\n",
       "var_43     0\n",
       "var_44     0\n",
       "var_45     0\n",
       "var_46     0\n",
       "var_47     0\n",
       "var_48     0\n",
       "var_49     0\n",
       "var_50     0\n",
       "var_51     0\n",
       "var_52     0\n",
       "var_53     0\n",
       "var_54     0\n",
       "var_55     0\n",
       "var_56     0\n",
       "var_57     0\n",
       "var_58     0\n",
       "var_59     0\n",
       "var_60     0\n",
       "var_61     0\n",
       "var_62     0\n",
       "var_63     0\n",
       "var_64     0\n",
       "var_65     0\n",
       "var_66     0\n",
       "var_67     0\n",
       "var_68     0\n",
       "var_69     0\n",
       "var_70     0\n",
       "var_71     0\n",
       "var_72     0\n",
       "var_73     0\n",
       "var_74     0\n",
       "var_75     0\n",
       "var_76     0\n",
       "var_77     0\n",
       "var_78     0\n",
       "var_79     0\n",
       "var_80     0\n",
       "var_81     0\n",
       "var_82     0\n",
       "var_83     0\n",
       "var_84     0\n",
       "var_85     0\n",
       "var_86     0\n",
       "var_87     0\n",
       "var_88     0\n",
       "var_89     0\n",
       "var_90     0\n",
       "var_91     0\n",
       "var_92     0\n",
       "var_93     0\n",
       "var_94     0\n",
       "var_95     0\n",
       "var_96     0\n",
       "var_97     0\n",
       "var_98     0\n",
       "var_99     0\n",
       "var_100    0\n",
       "var_101    0\n",
       "var_102    0\n",
       "var_103    0\n",
       "var_104    0\n",
       "var_105    0\n",
       "var_106    0\n",
       "var_107    0\n",
       "var_108    0\n",
       "var_109    0\n",
       "var_110    0\n",
       "var_111    0\n",
       "var_112    0\n",
       "var_113    0\n",
       "var_114    0\n",
       "var_115    0\n",
       "var_116    0\n",
       "var_117    0\n",
       "var_118    0\n",
       "var_119    0\n",
       "var_120    0\n",
       "var_121    0\n",
       "var_122    0\n",
       "var_123    0\n",
       "var_124    0\n",
       "var_125    0\n",
       "var_126    0\n",
       "var_127    0\n",
       "var_128    0\n",
       "var_129    0\n",
       "var_130    0\n",
       "var_131    0\n",
       "var_132    0\n",
       "var_133    0\n",
       "var_134    0\n",
       "var_135    0\n",
       "var_136    0\n",
       "var_137    0\n",
       "var_138    0\n",
       "var_139    0\n",
       "var_140    0\n",
       "var_141    0\n",
       "var_142    0\n",
       "var_143    0\n",
       "var_144    0\n",
       "var_145    0\n",
       "var_146    0\n",
       "var_147    0\n",
       "var_148    0\n",
       "var_149    0\n",
       "var_150    0\n",
       "var_151    0\n",
       "var_152    0\n",
       "var_153    0\n",
       "var_154    0\n",
       "var_155    0\n",
       "var_156    0\n",
       "var_157    0\n",
       "var_158    0\n",
       "var_159    0\n",
       "var_160    0\n",
       "var_161    0\n",
       "var_162    0\n",
       "var_163    0\n",
       "var_164    0\n",
       "var_165    0\n",
       "var_166    0\n",
       "var_167    0\n",
       "var_168    0\n",
       "var_169    0\n",
       "var_170    0\n",
       "var_171    0\n",
       "var_172    0\n",
       "var_173    0\n",
       "var_174    0\n",
       "var_175    0\n",
       "var_176    0\n",
       "var_177    0\n",
       "var_178    0\n",
       "var_179    0\n",
       "var_180    0\n",
       "var_181    0\n",
       "var_182    0\n",
       "var_183    0\n",
       "var_184    0\n",
       "var_185    0\n",
       "var_186    0\n",
       "var_187    0\n",
       "var_188    0\n",
       "var_189    0\n",
       "var_190    0\n",
       "var_191    0\n",
       "var_192    0\n",
       "var_193    0\n",
       "var_194    0\n",
       "var_195    0\n",
       "var_196    0\n",
       "var_197    0\n",
       "var_198    0\n",
       "var_199    0\n",
       "dtype: int64"
      ]
     },
     "execution_count": 10,
     "metadata": {},
     "output_type": "execute_result"
    }
   ],
   "source": [
    "#Checking null values in the test dataset.\n",
    "test.isnull().sum()"
   ]
  },
  {
   "cell_type": "code",
   "execution_count": 11,
   "metadata": {},
   "outputs": [
    {
     "name": "stdout",
     "output_type": "stream",
     "text": [
      "20.315\n",
      "10.3768\n",
      "19.352999999999998\n",
      "13.1883\n",
      "16.6714\n",
      "17.2516\n",
      "8.4477\n",
      "27.6918\n",
      "10.1513\n",
      "11.1506\n",
      "18.6702\n",
      "17.1887\n",
      "14.6545\n",
      "22.3315\n",
      "14.9377\n",
      "15.8633\n",
      "17.9506\n",
      "19.0259\n",
      "41.748000000000005\n",
      "35.183\n",
      "31.2859\n",
      "49.0443\n",
      "14.5945\n",
      "4.8752\n",
      "25.445999999999998\n",
      "14.6546\n",
      "15.6751\n",
      "3.2431\n",
      "8.7874\n",
      "13.1431\n",
      "15.6515\n",
      "20.1719\n",
      "6.7871\n",
      "29.5466\n",
      "13.2878\n",
      "21.5289\n",
      "14.2456\n",
      "11.8638\n",
      "29.8235\n",
      "15.3223\n",
      "18.1056\n",
      "26.1658\n",
      "13.4696\n",
      "12.5779\n",
      "34.1961\n",
      "62.0844\n",
      "21.2939\n",
      "20.6854\n",
      "54.2738\n",
      "41.153\n",
      "15.3172\n",
      "40.689\n",
      "17.0968\n",
      "8.2315\n",
      "28.5724\n",
      "29.0921\n",
      "29.0741\n",
      "9.1609\n",
      "20.4833\n",
      "11.9867\n",
      "25.1955\n",
      "27.1029\n",
      "7.7536\n",
      "11.2317\n",
      "11.1537\n",
      "15.7313\n",
      "9.7132\n",
      "39.3968\n",
      "5.0469\n",
      "8.5473\n",
      "64.4644\n",
      "1.5719\n",
      "14.15\n",
      "44.5361\n",
      "70.27199999999999\n",
      "36.1567\n",
      "34.4352\n",
      "30.9569\n",
      "11.3507\n",
      "18.2256\n",
      "30.4769\n",
      "23.1324\n",
      "21.8934\n",
      "27.7143\n",
      "17.7424\n",
      "32.9011\n",
      "34.5637\n",
      "33.3541\n",
      "17.4594\n",
      "15.4816\n",
      "27.2713\n",
      "7.4895\n",
      "26.9976\n",
      "12.5343\n",
      "18.975\n",
      "1.804\n",
      "40.8806\n",
      "58.2879\n",
      "4.5028\n",
      "5.0764\n",
      "25.1409\n",
      "28.4594\n",
      "51.3265\n",
      "2.1887\n",
      "19.0206\n",
      "7.1692\n",
      "15.3074\n",
      "46.3795\n",
      "14.743\n",
      "32.0591\n",
      "19.5193\n",
      "9.8002\n",
      "8.4317\n",
      "21.5421\n",
      "6.585\n",
      "11.9504\n",
      "8.1207\n",
      "64.8109\n",
      "25.2635\n",
      "15.6885\n",
      "74.0321\n",
      "17.3074\n",
      "18.4714\n",
      "26.8749\n",
      "14.9915\n",
      "13.6642\n",
      "15.5156\n",
      "10.5976\n",
      "9.8096\n",
      "31.2036\n",
      "14.9895\n",
      "2.1923\n",
      "12.465\n",
      "8.3091\n",
      "12.7236\n",
      "21.4128\n",
      "54.5794\n",
      "44.4376\n",
      "18.8187\n",
      "36.0971\n",
      "21.1219\n",
      "23.9658\n",
      "32.8911\n",
      "22.6916\n",
      "11.8101\n",
      "16.0083\n",
      "20.4373\n",
      "22.1494\n",
      "4.7528\n",
      "48.424\n",
      "25.4357\n",
      "21.1245\n",
      "18.3846\n",
      "24.0075\n",
      "23.2428\n",
      "16.8316\n",
      "16.497\n",
      "11.9721\n",
      "44.7795\n",
      "25.12\n",
      "58.3942\n",
      "6.3099\n",
      "10.1344\n",
      "27.5648\n",
      "12.1193\n",
      "38.3322\n",
      "4.2204\n",
      "21.2766\n",
      "14.8861\n",
      "7.0889999999999995\n",
      "16.7319\n",
      "17.9173\n",
      "53.5919\n",
      "18.8554\n",
      "43.5468\n",
      "20.8548\n",
      "20.2452\n",
      "20.5965\n",
      "29.8413\n",
      "13.4487\n",
      "12.7505\n",
      "14.3939\n",
      "29.2487\n",
      "23.7049\n",
      "44.3634\n",
      "12.9975\n",
      "21.7392\n",
      "22.7861\n",
      "29.3303\n",
      "4.0341\n",
      "18.4409\n",
      "16.7165\n",
      "8.4024\n",
      "18.2818\n",
      "27.9288\n",
      "4.2729\n",
      "18.3215\n",
      "12.0004\n",
      "26.0791\n",
      "28.5007\n"
     ]
    }
   ],
   "source": [
    "#Checking max values in the dataset to see if there are outliers.\n",
    "for i in cnames:\n",
    "    print(df[i].max())"
   ]
  },
  {
   "cell_type": "code",
   "execution_count": 12,
   "metadata": {},
   "outputs": [
    {
     "name": "stdout",
     "output_type": "stream",
     "text": [
      "0.4084\n",
      "-15.0434\n",
      "2.1171\n",
      "-0.0402\n",
      "5.0748\n",
      "-32.5626\n",
      "2.3473\n",
      "5.3497\n",
      "-10.5055\n",
      "3.9705\n",
      "-20.7313\n",
      "-26.095\n",
      "13.4346\n",
      "-6.0111\n",
      "1.0133\n",
      "13.0769\n",
      "0.6351\n",
      "-33.3802\n",
      "-10.6642\n",
      "-12.4025\n",
      "-5.4322\n",
      "-10.089\n",
      "-5.3225\n",
      "1.2098\n",
      "-0.6784\n",
      "12.72\n",
      "-24.2431\n",
      "-6.1668\n",
      "2.0896\n",
      "-4.7872\n",
      "-34.7984\n",
      "2.1406\n",
      "-8.9861\n",
      "1.5085\n",
      "9.8169\n",
      "-16.5136\n",
      "-8.0951\n",
      "-1.1834\n",
      "-6.3371\n",
      "-14.5457\n",
      "-35.2117\n",
      "-8.5359\n",
      "8.859\n",
      "10.6528\n",
      "-9.9396\n",
      "-90.2525\n",
      "1.2062\n",
      "-47.6862\n",
      "-23.9022\n",
      "-8.0707\n",
      "10.3855\n",
      "-15.0462\n",
      "-24.7214\n",
      "3.3449\n",
      "-26.7786\n",
      "-3.7826\n",
      "2.7618\n",
      "3.4423\n",
      "-12.6009\n",
      "6.184\n",
      "-2.1006\n",
      "-48.8027\n",
      "-6.3289\n",
      "-10.5544\n",
      "1.6117\n",
      "-14.0888\n",
      "1.3368\n",
      "-19.5443\n",
      "4.9938\n",
      "-16.3094\n",
      "-17.0275\n",
      "-0.22399999999999998\n",
      "-12.3834\n",
      "-1.6658\n",
      "-34.1015\n",
      "-1.2936\n",
      "-21.6333\n",
      "7.4257\n",
      "-1.8183\n",
      "10.4454\n",
      "-18.0422\n",
      "7.5865\n",
      "-30.0266\n",
      "-24.2201\n",
      "-24.4398\n",
      "7.023\n",
      "-19.2722\n",
      "-8.4816\n",
      "1.3502\n",
      "-9.6014\n",
      "-61.718\n",
      "6.5218\n",
      "-1.0185\n",
      "8.4916\n",
      "2.819\n",
      "-2.4324\n",
      "-12.1584\n",
      "-21.74\n",
      "-0.6035\n",
      "-7.2806\n",
      "-39.1791\n",
      "0.0757\n",
      "-7.3829\n",
      "0.9793\n",
      "4.0846\n",
      "0.7153\n",
      "0.9424\n",
      "-5.898\n",
      "13.729000000000001\n",
      "5.7697\n",
      "-9.2398\n",
      "2.1942\n",
      "-2.0302\n",
      "-5.5139\n",
      "-0.0505\n",
      "-6.8586\n",
      "-3.1630000000000003\n",
      "-31.8369\n",
      "-37.5277\n",
      "-9.7742\n",
      "-18.6962\n",
      "6.3052\n",
      "-15.194\n",
      "-12.4059\n",
      "-7.0538\n",
      "11.4861\n",
      "11.2654\n",
      "-8.8769\n",
      "-11.7559\n",
      "2.1863\n",
      "9.5283\n",
      "-0.9548\n",
      "2.89\n",
      "5.3593\n",
      "-24.2546\n",
      "-31.3808\n",
      "-9.9493\n",
      "-9.851\n",
      "-16.4684\n",
      "-21.2743\n",
      "-15.4595\n",
      "-16.6937\n",
      "-7.108\n",
      "2.8068\n",
      "5.4443\n",
      "-8.2734\n",
      "0.4274\n",
      "-29.984\n",
      "3.3205\n",
      "-41.1683\n",
      "9.242\n",
      "-2.1915\n",
      "-2.88\n",
      "11.0308\n",
      "-8.1966\n",
      "-21.8409\n",
      "9.9965\n",
      "-22.9904\n",
      "-4.5544\n",
      "-4.6416\n",
      "-7.4522\n",
      "4.8526\n",
      "0.6231\n",
      "-6.5317\n",
      "-19.9977\n",
      "3.8167\n",
      "1.8512\n",
      "-35.9695\n",
      "-5.2502\n",
      "4.2588\n",
      "-14.505999999999998\n",
      "-22.4793\n",
      "-11.4533\n",
      "-22.7487\n",
      "-2.9953\n",
      "3.2415\n",
      "-29.1165\n",
      "4.9521\n",
      "-29.2734\n",
      "-7.8561\n",
      "-22.0374\n",
      "5.4165\n",
      "-26.0011\n",
      "-4.8082\n",
      "-18.4897\n",
      "-22.5833\n",
      "-3.0223\n",
      "-47.7536\n",
      "4.4123\n",
      "-2.5543\n",
      "-14.0933\n",
      "-2.6917\n",
      "-3.8145\n",
      "-11.7834\n",
      "8.6944\n",
      "-5.261\n",
      "-14.2096\n",
      "5.9606\n",
      "6.2993\n",
      "-38.8528\n"
     ]
    }
   ],
   "source": [
    "#Checking min values in the dataset to see if there are outliers.\n",
    "for i in cnames:\n",
    "    print(df[i].min())"
   ]
  },
  {
   "cell_type": "code",
   "execution_count": 13,
   "metadata": {},
   "outputs": [
    {
     "data": {
      "text/plain": [
       "ID_code     object\n",
       "target       int64\n",
       "var_0      float64\n",
       "var_1      float64\n",
       "var_2      float64\n",
       "var_3      float64\n",
       "var_4      float64\n",
       "var_5      float64\n",
       "var_6      float64\n",
       "var_7      float64\n",
       "var_8      float64\n",
       "var_9      float64\n",
       "var_10     float64\n",
       "var_11     float64\n",
       "var_12     float64\n",
       "var_13     float64\n",
       "var_14     float64\n",
       "var_15     float64\n",
       "var_16     float64\n",
       "var_17     float64\n",
       "var_18     float64\n",
       "var_19     float64\n",
       "var_20     float64\n",
       "var_21     float64\n",
       "var_22     float64\n",
       "var_23     float64\n",
       "var_24     float64\n",
       "var_25     float64\n",
       "var_26     float64\n",
       "var_27     float64\n",
       "var_28     float64\n",
       "var_29     float64\n",
       "var_30     float64\n",
       "var_31     float64\n",
       "var_32     float64\n",
       "var_33     float64\n",
       "var_34     float64\n",
       "var_35     float64\n",
       "var_36     float64\n",
       "var_37     float64\n",
       "var_38     float64\n",
       "var_39     float64\n",
       "var_40     float64\n",
       "var_41     float64\n",
       "var_42     float64\n",
       "var_43     float64\n",
       "var_44     float64\n",
       "var_45     float64\n",
       "var_46     float64\n",
       "var_47     float64\n",
       "var_48     float64\n",
       "var_49     float64\n",
       "var_50     float64\n",
       "var_51     float64\n",
       "var_52     float64\n",
       "var_53     float64\n",
       "var_54     float64\n",
       "var_55     float64\n",
       "var_56     float64\n",
       "var_57     float64\n",
       "var_58     float64\n",
       "var_59     float64\n",
       "var_60     float64\n",
       "var_61     float64\n",
       "var_62     float64\n",
       "var_63     float64\n",
       "var_64     float64\n",
       "var_65     float64\n",
       "var_66     float64\n",
       "var_67     float64\n",
       "var_68     float64\n",
       "var_69     float64\n",
       "var_70     float64\n",
       "var_71     float64\n",
       "var_72     float64\n",
       "var_73     float64\n",
       "var_74     float64\n",
       "var_75     float64\n",
       "var_76     float64\n",
       "var_77     float64\n",
       "var_78     float64\n",
       "var_79     float64\n",
       "var_80     float64\n",
       "var_81     float64\n",
       "var_82     float64\n",
       "var_83     float64\n",
       "var_84     float64\n",
       "var_85     float64\n",
       "var_86     float64\n",
       "var_87     float64\n",
       "var_88     float64\n",
       "var_89     float64\n",
       "var_90     float64\n",
       "var_91     float64\n",
       "var_92     float64\n",
       "var_93     float64\n",
       "var_94     float64\n",
       "var_95     float64\n",
       "var_96     float64\n",
       "var_97     float64\n",
       "var_98     float64\n",
       "var_99     float64\n",
       "var_100    float64\n",
       "var_101    float64\n",
       "var_102    float64\n",
       "var_103    float64\n",
       "var_104    float64\n",
       "var_105    float64\n",
       "var_106    float64\n",
       "var_107    float64\n",
       "var_108    float64\n",
       "var_109    float64\n",
       "var_110    float64\n",
       "var_111    float64\n",
       "var_112    float64\n",
       "var_113    float64\n",
       "var_114    float64\n",
       "var_115    float64\n",
       "var_116    float64\n",
       "var_117    float64\n",
       "var_118    float64\n",
       "var_119    float64\n",
       "var_120    float64\n",
       "var_121    float64\n",
       "var_122    float64\n",
       "var_123    float64\n",
       "var_124    float64\n",
       "var_125    float64\n",
       "var_126    float64\n",
       "var_127    float64\n",
       "var_128    float64\n",
       "var_129    float64\n",
       "var_130    float64\n",
       "var_131    float64\n",
       "var_132    float64\n",
       "var_133    float64\n",
       "var_134    float64\n",
       "var_135    float64\n",
       "var_136    float64\n",
       "var_137    float64\n",
       "var_138    float64\n",
       "var_139    float64\n",
       "var_140    float64\n",
       "var_141    float64\n",
       "var_142    float64\n",
       "var_143    float64\n",
       "var_144    float64\n",
       "var_145    float64\n",
       "var_146    float64\n",
       "var_147    float64\n",
       "var_148    float64\n",
       "var_149    float64\n",
       "var_150    float64\n",
       "var_151    float64\n",
       "var_152    float64\n",
       "var_153    float64\n",
       "var_154    float64\n",
       "var_155    float64\n",
       "var_156    float64\n",
       "var_157    float64\n",
       "var_158    float64\n",
       "var_159    float64\n",
       "var_160    float64\n",
       "var_161    float64\n",
       "var_162    float64\n",
       "var_163    float64\n",
       "var_164    float64\n",
       "var_165    float64\n",
       "var_166    float64\n",
       "var_167    float64\n",
       "var_168    float64\n",
       "var_169    float64\n",
       "var_170    float64\n",
       "var_171    float64\n",
       "var_172    float64\n",
       "var_173    float64\n",
       "var_174    float64\n",
       "var_175    float64\n",
       "var_176    float64\n",
       "var_177    float64\n",
       "var_178    float64\n",
       "var_179    float64\n",
       "var_180    float64\n",
       "var_181    float64\n",
       "var_182    float64\n",
       "var_183    float64\n",
       "var_184    float64\n",
       "var_185    float64\n",
       "var_186    float64\n",
       "var_187    float64\n",
       "var_188    float64\n",
       "var_189    float64\n",
       "var_190    float64\n",
       "var_191    float64\n",
       "var_192    float64\n",
       "var_193    float64\n",
       "var_194    float64\n",
       "var_195    float64\n",
       "var_196    float64\n",
       "var_197    float64\n",
       "var_198    float64\n",
       "var_199    float64\n",
       "dtype: object"
      ]
     },
     "execution_count": 13,
     "metadata": {},
     "output_type": "execute_result"
    }
   ],
   "source": [
    "df.dtypes"
   ]
  },
  {
   "cell_type": "code",
   "execution_count": 14,
   "metadata": {},
   "outputs": [],
   "source": [
    "from sklearn.model_selection import train_test_split"
   ]
  },
  {
   "cell_type": "code",
   "execution_count": 15,
   "metadata": {},
   "outputs": [],
   "source": [
    "#Train-test split.\n",
    "x_train, x_test, y_train, y_test = train_test_split(df.iloc[:,2:], df['target'], random_state=1000)"
   ]
  },
  {
   "cell_type": "code",
   "execution_count": 16,
   "metadata": {},
   "outputs": [],
   "source": [
    "from sklearn.linear_model import LogisticRegression"
   ]
  },
  {
   "cell_type": "code",
   "execution_count": 17,
   "metadata": {},
   "outputs": [],
   "source": [
    "lr = LogisticRegression()"
   ]
  },
  {
   "cell_type": "code",
   "execution_count": 18,
   "metadata": {},
   "outputs": [
    {
     "name": "stderr",
     "output_type": "stream",
     "text": [
      "/anaconda3/lib/python3.7/site-packages/sklearn/linear_model/logistic.py:432: FutureWarning: Default solver will be changed to 'lbfgs' in 0.22. Specify a solver to silence this warning.\n",
      "  FutureWarning)\n"
     ]
    }
   ],
   "source": [
    "#Implementing Logistic Regression model.\n",
    "lrm = lr.fit(x_train, y_train)"
   ]
  },
  {
   "cell_type": "code",
   "execution_count": 19,
   "metadata": {},
   "outputs": [],
   "source": [
    "#Determining the class labels and the probabily values using the model.\n",
    "lr_predict = lrm.predict(x_test)\n",
    "lr_predict_proba = lrm.predict_proba(x_test)"
   ]
  },
  {
   "cell_type": "code",
   "execution_count": 20,
   "metadata": {},
   "outputs": [],
   "source": [
    "from sklearn.metrics import roc_auc_score, accuracy_score, confusion_matrix"
   ]
  },
  {
   "cell_type": "code",
   "execution_count": 21,
   "metadata": {},
   "outputs": [
    {
     "data": {
      "text/plain": [
       "0.8553636037389019"
      ]
     },
     "execution_count": 21,
     "metadata": {},
     "output_type": "execute_result"
    }
   ],
   "source": [
    "#AUC score for Logistic Regression model.\n",
    "roc_auc_score(y_test, lr_predict_proba[:,1])"
   ]
  },
  {
   "cell_type": "code",
   "execution_count": 24,
   "metadata": {},
   "outputs": [
    {
     "data": {
      "text/plain": [
       "array([[44393,   635],\n",
       "       [ 3636,  1336]])"
      ]
     },
     "execution_count": 24,
     "metadata": {},
     "output_type": "execute_result"
    }
   ],
   "source": [
    "#Confusion Matrix for the Logistic Regression model.\n",
    "cm_lr = confusion_matrix(y_test, lr_predict)\n",
    "cm_lr"
   ]
  },
  {
   "cell_type": "code",
   "execution_count": 25,
   "metadata": {},
   "outputs": [
    {
     "data": {
      "text/plain": [
       "0.26870474658085275"
      ]
     },
     "execution_count": 25,
     "metadata": {},
     "output_type": "execute_result"
    }
   ],
   "source": [
    "#Precision for Logistic Regression model.\n",
    "precision_lr = cm_lr[1,1] / (cm_lr[1,1] + cm_lr[1,0])\n",
    "precision_lr"
   ]
  },
  {
   "cell_type": "code",
   "execution_count": 26,
   "metadata": {},
   "outputs": [
    {
     "data": {
      "text/plain": [
       "0.6778285134449518"
      ]
     },
     "execution_count": 26,
     "metadata": {},
     "output_type": "execute_result"
    }
   ],
   "source": [
    "#Recall for Logistic Regression model.\n",
    "recall_lr = cm_lr[1,1] / (cm_lr[1,1] + cm_lr[0,1])\n",
    "recall_lr"
   ]
  },
  {
   "cell_type": "code",
   "execution_count": 27,
   "metadata": {},
   "outputs": [
    {
     "data": {
      "text/plain": [
       "0.91458"
      ]
     },
     "execution_count": 27,
     "metadata": {},
     "output_type": "execute_result"
    }
   ],
   "source": [
    "#Accuracy of the Logistic Regression model.\n",
    "accuracy_score(y_test, lr_predict)"
   ]
  },
  {
   "cell_type": "code",
   "execution_count": 28,
   "metadata": {},
   "outputs": [],
   "source": [
    "from sklearn.tree import DecisionTreeClassifier"
   ]
  },
  {
   "cell_type": "code",
   "execution_count": 29,
   "metadata": {},
   "outputs": [],
   "source": [
    "dtmodel = DecisionTreeClassifier()"
   ]
  },
  {
   "cell_type": "code",
   "execution_count": 30,
   "metadata": {},
   "outputs": [],
   "source": [
    "#Training the decision tree model.\n",
    "dt = dtmodel.fit(x_train, y_train)"
   ]
  },
  {
   "cell_type": "code",
   "execution_count": 31,
   "metadata": {},
   "outputs": [],
   "source": [
    "#Determining the class labels and the probabily values using the model.\n",
    "dt_predict = dt.predict(x_test)\n",
    "dt_predict_prob = dt.predict_proba(x_test)"
   ]
  },
  {
   "cell_type": "code",
   "execution_count": 32,
   "metadata": {},
   "outputs": [
    {
     "data": {
      "text/plain": [
       "0.5593696736904779"
      ]
     },
     "execution_count": 32,
     "metadata": {},
     "output_type": "execute_result"
    }
   ],
   "source": [
    "#AUC score the decision tree model\n",
    "roc_auc_score(y_test, dt_predict_prob[:,1])"
   ]
  },
  {
   "cell_type": "code",
   "execution_count": 33,
   "metadata": {},
   "outputs": [
    {
     "data": {
      "text/plain": [
       "array([[40630,  4398],\n",
       "       [ 3896,  1076]])"
      ]
     },
     "execution_count": 33,
     "metadata": {},
     "output_type": "execute_result"
    }
   ],
   "source": [
    "#Confusion matrix for decision tree model\n",
    "cm_dt = confusion_matrix(y_test, dt_predict)\n",
    "cm_dt"
   ]
  },
  {
   "cell_type": "code",
   "execution_count": 34,
   "metadata": {},
   "outputs": [
    {
     "data": {
      "text/plain": [
       "0.2164119066773934"
      ]
     },
     "execution_count": 34,
     "metadata": {},
     "output_type": "execute_result"
    }
   ],
   "source": [
    "#Precision for the decision tree model\n",
    "precision_dt = cm_dt[1,1] / (cm_dt[1,1] + cm_dt[1,0])\n",
    "precision_dt"
   ]
  },
  {
   "cell_type": "code",
   "execution_count": 35,
   "metadata": {},
   "outputs": [
    {
     "data": {
      "text/plain": [
       "0.19656558275484107"
      ]
     },
     "execution_count": 35,
     "metadata": {},
     "output_type": "execute_result"
    }
   ],
   "source": [
    "#Recall for the decision tree model\n",
    "recall_dt = cm_dt[1,1] / (cm_dt[1,1] + cm_dt[0,1])\n",
    "recall_dt"
   ]
  },
  {
   "cell_type": "code",
   "execution_count": 60,
   "metadata": {},
   "outputs": [
    {
     "data": {
      "text/plain": [
       "0.83412"
      ]
     },
     "execution_count": 60,
     "metadata": {},
     "output_type": "execute_result"
    }
   ],
   "source": [
    "#Accuracy of decision tree model\n",
    "accuracy_score(y_test, dt_predict)"
   ]
  },
  {
   "cell_type": "code",
   "execution_count": 36,
   "metadata": {},
   "outputs": [],
   "source": [
    "from sklearn.ensemble import RandomForestClassifier"
   ]
  },
  {
   "cell_type": "code",
   "execution_count": 37,
   "metadata": {},
   "outputs": [],
   "source": [
    "rfm = RandomForestClassifier(n_estimators = 100)"
   ]
  },
  {
   "cell_type": "code",
   "execution_count": 38,
   "metadata": {},
   "outputs": [],
   "source": [
    "#Training the Random forest model.\n",
    "rf = rfm.fit(x_train, y_train)"
   ]
  },
  {
   "cell_type": "code",
   "execution_count": 39,
   "metadata": {},
   "outputs": [],
   "source": [
    "#Determining the class labels and the probabily values using the model.\n",
    "rf_predict = rf.predict(x_test)\n",
    "rf_predict_prob = rf.predict_proba(x_test)"
   ]
  },
  {
   "cell_type": "code",
   "execution_count": 40,
   "metadata": {},
   "outputs": [
    {
     "data": {
      "text/plain": [
       "0.8174625732117983"
      ]
     },
     "execution_count": 40,
     "metadata": {},
     "output_type": "execute_result"
    }
   ],
   "source": [
    "#AUC score for the Random Forest model\n",
    "roc_auc_score(y_test, rf_predict_prob[:,1])"
   ]
  },
  {
   "cell_type": "code",
   "execution_count": 41,
   "metadata": {},
   "outputs": [
    {
     "data": {
      "text/plain": [
       "array([[45028,     0],\n",
       "       [ 4970,     2]])"
      ]
     },
     "execution_count": 41,
     "metadata": {},
     "output_type": "execute_result"
    }
   ],
   "source": [
    "#Confusion matrix of the Random Forest model\n",
    "cm_rf = confusion_matrix(y_test, rf_predict)\n",
    "cm_rf"
   ]
  },
  {
   "cell_type": "code",
   "execution_count": 42,
   "metadata": {},
   "outputs": [
    {
     "data": {
      "text/plain": [
       "0.00040225261464199515"
      ]
     },
     "execution_count": 42,
     "metadata": {},
     "output_type": "execute_result"
    }
   ],
   "source": [
    "#Precision for the Random Forest model\n",
    "precision_rf = cm_rf[1,1] / (cm_rf[1,1] + cm_rf[1,0])\n",
    "precision_rf"
   ]
  },
  {
   "cell_type": "code",
   "execution_count": 43,
   "metadata": {},
   "outputs": [
    {
     "data": {
      "text/plain": [
       "1.0"
      ]
     },
     "execution_count": 43,
     "metadata": {},
     "output_type": "execute_result"
    }
   ],
   "source": [
    "#Recall of the Random Forest model\n",
    "recall_rf = cm_rf[1,1] / (cm_rf[1,1] + cm_rf[0,1])\n",
    "recall_rf"
   ]
  },
  {
   "cell_type": "code",
   "execution_count": 59,
   "metadata": {},
   "outputs": [
    {
     "data": {
      "text/plain": [
       "0.9006"
      ]
     },
     "execution_count": 59,
     "metadata": {},
     "output_type": "execute_result"
    }
   ],
   "source": [
    "#Accuracy of the Random Forest model\n",
    "accuracy_score(y_test, rf_predict)"
   ]
  },
  {
   "cell_type": "code",
   "execution_count": 44,
   "metadata": {},
   "outputs": [],
   "source": [
    "from sklearn.naive_bayes import GaussianNB"
   ]
  },
  {
   "cell_type": "code",
   "execution_count": 45,
   "metadata": {},
   "outputs": [],
   "source": [
    "gnb = GaussianNB()"
   ]
  },
  {
   "cell_type": "code",
   "execution_count": 46,
   "metadata": {},
   "outputs": [],
   "source": [
    "#Training the Naive Bayes model.\n",
    "nb = gnb.fit(x_train, y_train)"
   ]
  },
  {
   "cell_type": "code",
   "execution_count": 47,
   "metadata": {},
   "outputs": [],
   "source": [
    "#Determining the class labels and the probabily values using the model.\n",
    "nb_predict = nb.predict(x_test)\n",
    "nb_predict_prob = nb.predict_proba(x_test)"
   ]
  },
  {
   "cell_type": "code",
   "execution_count": 48,
   "metadata": {},
   "outputs": [
    {
     "data": {
      "text/plain": [
       "0.8853065663763983"
      ]
     },
     "execution_count": 48,
     "metadata": {},
     "output_type": "execute_result"
    }
   ],
   "source": [
    "#AUC score for the Naive Bayes model.\n",
    "roc_auc_score(y_test, nb_predict_prob[:,1])"
   ]
  },
  {
   "cell_type": "code",
   "execution_count": 49,
   "metadata": {},
   "outputs": [
    {
     "data": {
      "text/plain": [
       "array([[44275,   753],\n",
       "       [ 3152,  1820]])"
      ]
     },
     "execution_count": 49,
     "metadata": {},
     "output_type": "execute_result"
    }
   ],
   "source": [
    "#Confusion matrix for the Naive Bayes model\n",
    "cm_nb = confusion_matrix(y_test, nb_predict)\n",
    "cm_nb"
   ]
  },
  {
   "cell_type": "code",
   "execution_count": 50,
   "metadata": {},
   "outputs": [
    {
     "data": {
      "text/plain": [
       "0.3660498793242156"
      ]
     },
     "execution_count": 50,
     "metadata": {},
     "output_type": "execute_result"
    }
   ],
   "source": [
    "#Precision of the Naive Bayes model\n",
    "precision_nb = cm_nb[1,1] / (cm_nb[1,1] + cm_nb[1,0])\n",
    "precision_nb"
   ]
  },
  {
   "cell_type": "code",
   "execution_count": 51,
   "metadata": {},
   "outputs": [
    {
     "data": {
      "text/plain": [
       "0.7073455110765643"
      ]
     },
     "execution_count": 51,
     "metadata": {},
     "output_type": "execute_result"
    }
   ],
   "source": [
    "#Recall of the Naive Bayes model\n",
    "recall_nb = cm_nb[1,1] / (cm_nb[1,1] + cm_nb[0,1])\n",
    "recall_nb"
   ]
  },
  {
   "cell_type": "code",
   "execution_count": 52,
   "metadata": {},
   "outputs": [
    {
     "data": {
      "text/plain": [
       "0.9219"
      ]
     },
     "execution_count": 52,
     "metadata": {},
     "output_type": "execute_result"
    }
   ],
   "source": [
    "#Accuracy of the Naive Bayes model\n",
    "accuracy_score(y_test, nb_predict)"
   ]
  },
  {
   "cell_type": "code",
   "execution_count": 53,
   "metadata": {},
   "outputs": [],
   "source": [
    "#Fitting the Naive Bayes model on the whole training dataset\n",
    "nb_final = gnb.fit(df.iloc[:,2:], df.iloc[:,1])"
   ]
  },
  {
   "cell_type": "code",
   "execution_count": 54,
   "metadata": {},
   "outputs": [],
   "source": [
    "#Final predictions on the test dataset.\n",
    "final_predict = nb_final.predict(test.iloc[:,1:])"
   ]
  },
  {
   "cell_type": "code",
   "execution_count": 55,
   "metadata": {},
   "outputs": [],
   "source": [
    "imp = pd.Series(rf.feature_importances_, index=cnames)"
   ]
  },
  {
   "cell_type": "code",
   "execution_count": 56,
   "metadata": {},
   "outputs": [],
   "source": [
    "import numpy as np\n",
    "import matplotlib.pyplot as plt"
   ]
  },
  {
   "cell_type": "code",
   "execution_count": 57,
   "metadata": {},
   "outputs": [
    {
     "data": {
      "text/plain": [
       "Text(0.5, 0, 'Importance')"
      ]
     },
     "execution_count": 57,
     "metadata": {},
     "output_type": "execute_result"
    },
    {
     "data": {
      "image/png": "[encoded data removed]",
      "text/plain": [
       "<Figure size 432x288 with 1 Axes>"
      ]
     },
     "metadata": {
      "needs_background": "light"
     },
     "output_type": "display_data"
    }
   ],
   "source": [
    "#Variable importance (Only top 10 variables are shown)\n",
    "imp.nlargest(10).plot(kind='barh')\n",
    "plt.title('Feature Importance')\n",
    "plt.xlabel('Importance')"
   ]
  },
  {
   "cell_type": "code",
   "execution_count": 61,
   "metadata": {},
   "outputs": [],
   "source": [
    "import seaborn as sns"
   ]
  },
  {
   "cell_type": "code",
   "execution_count": 62,
   "metadata": {},
   "outputs": [
    {
     "data": {
      "text/plain": [
       "<matplotlib.axes._subplots.AxesSubplot at 0x14c51d240>"
      ]
     },
     "execution_count": 62,
     "metadata": {},
     "output_type": "execute_result"
    },
    {
     "data": {
      "image/png": "[encoded data removed]",
      "text/plain": [
       "<Figure size 432x288 with 2 Axes>"
      ]
     },
     "metadata": {
      "needs_background": "light"
     },
     "output_type": "display_data"
    }
   ],
   "source": [
    "sns.heatmap(df.corr())"
   ]
  },
  {
   "cell_type": "code",
   "execution_count": 6,
   "metadata": {},
   "outputs": [
    {
     "data": {
      "text/plain": [
       "202"
      ]
     },
     "execution_count": 6,
     "metadata": {},
     "output_type": "execute_result"
    }
   ],
   "source": [
    "df.shape[1]"
   ]
  },
  {
   "cell_type": "code",
   "execution_count": 1,
   "metadata": {},
   "outputs": [],
   "source": [
    "stri = \"https://www.google.com/maps/@40.7185,-74.0025,16z\""
   ]
  },
  {
   "cell_type": "code",
   "execution_count": 49,
   "metadata": {},
   "outputs": [],
   "source": [
    "import re"
   ]
  },
  {
   "cell_type": "code",
   "execution_count": 2,
   "metadata": {},
   "outputs": [],
   "source": [
    "a = stri[stri.find('@'): stri.find(',')]"
   ]
  },
  {
   "cell_type": "code",
   "execution_count": 3,
   "metadata": {},
   "outputs": [
    {
     "data": {
      "text/plain": [
       "str"
      ]
     },
     "execution_count": 3,
     "metadata": {},
     "output_type": "execute_result"
    }
   ],
   "source": [
    "type(a)"
   ]
  },
  {
   "cell_type": "code",
   "execution_count": 4,
   "metadata": {},
   "outputs": [
    {
     "data": {
      "text/plain": [
       "'@40.7185'"
      ]
     },
     "execution_count": 4,
     "metadata": {},
     "output_type": "execute_result"
    }
   ],
   "source": [
    "a"
   ]
  },
  {
   "cell_type": "code",
   "execution_count": 5,
   "metadata": {},
   "outputs": [],
   "source": [
    "b = stri[stri.find(a) + 1 + len(a): stri.find(a) + 9 + len(a)]"
   ]
  },
  {
   "cell_type": "code",
   "execution_count": 6,
   "metadata": {},
   "outputs": [
    {
     "data": {
      "text/plain": [
       "'-74.0025'"
      ]
     },
     "execution_count": 6,
     "metadata": {},
     "output_type": "execute_result"
    }
   ],
   "source": [
    "b"
   ]
  },
  {
   "cell_type": "code",
   "execution_count": 19,
   "metadata": {},
   "outputs": [],
   "source": [
    "str = '{\"geoId\":297628,\"hotels\":[{\"entityType\":\"hotel\",\"id\":653907,\"name\":\"Casa Cottage\",\"detailUrl\":\"/Hotel_Review-g297628-d653907-Reviews-Casa_Cottage-Bengaluru_Bangalore_District_Karnataka.html\",\"numReviews\":508,\"bubbleRating\":45,\"geoPoint\":{\"latitude\":12.964365005493164,\"longitude\":77.6042251586914},\"thumbnail\":null,\"popIndexText\":\"#81 of 1,095 Bengaluru hotels\",\"accommodationCategory\":null,\"offers\":[],\"sponsoredListing\":null,\"listingKey\":\"2b7fbc2a-3c29-4655-8a9d-6b80ff272ee0\"},{\"entityType\":\"hotel\",\"id\":1585538,\"name\":\"Maple Suites, Serviced Residences\",\"detailUrl\":\"/Hotel_Review-g297628-d1585538-Reviews-Maple_Suites_Serviced_Residences-Bengaluru_Bangalore_District_Karnataka.html\",\"numReviews\":179,\"bubbleRating\":45,\"geoPoint\":{\"latitude\":12.905165672302246,\"longitude\":77.60383605957031},\"thumbnail\":null,\"popIndexText\":\"#80 of 1,095 Bengaluru hotels\",\"accommodationCategory\":null,\"offers\":[],\"sponsoredListing\":null,\"listingKey\":\"766b52bb-8635-4d5c-9343-06bdcb721dac\"},{\"entityType\":\"hotel\",\"id\":1015286,\"name\":\"Fortune Select Trinity\",\"detailUrl\":\"/Hotel_Review-g297628-d1015286-Reviews-Fortune_Select_Trinity-Bengaluru_Bangalore_District_Karnataka.html\",\"numReviews\":569,\"bubbleRating\":40,\"geoPoint\":{\"latitude\":12.977380752563477,\"longitude\":77.71446228027344},\"thumbnail\":null,\"popIndexText\":\"#98 of 1,095 Bengaluru hotels\",\"accommodationCategory\":null,\"offers\":[],\"sponsoredListing\":null,\"listingKey\":\"ed3d81cd-bc04-45a7-9d27-d75d55eee47e\"},{\"entityType\":\"hotel\",\"id\":6781827,\"name\":\"Ibis Bengaluru City Centre Hotel\",\"detailUrl\":\"/Hotel_Review-g297628-d6781827-Reviews-Ibis_Bengaluru_City_Centre_Hotel-Bengaluru_Bangalore_District_Karnataka.html\",\"numReviews\":963,\"bubbleRating\":45,\"geoPoint\":{\"latitude\":12.967448234558105,\"longitude\":77.59390258789062},\"thumbnail\":null,\"popIndexText\":\"#65 of 1,095 Bengaluru hotels\",\"accommodationCategory\":null,\"offers\":[],\"sponsoredListing\":null,\"listingKey\":\"845f6aad-2fa5-4b30-a7bc-8d3b81b96a8e\"},{\"entityType\":\"hotel\",\"id\":9725494,\"name\":\"Tulip Inn Bangalore\",\"detailUrl\":\"/Hotel_Review-g297628-d9725494-Reviews-Tulip_Inn_Bangalore-Bengaluru_Bangalore_District_Karnataka.html\",\"numReviews\":144,\"bubbleRating\":45,\"geoPoint\":{\"latitude\":12.999216079711914,\"longitude\":77.5836410522461},\"thumbnail\":null,\"popIndexText\":\"#107 of 1,095 Bengaluru hotels\",\"accommodationCategory\":null,\"offers\":[],\"sponsoredListing\":null,\"listingKey\":\"55f78280-3e59-4edc-b7f1-7af669ff3ef8\"},{\"entityType\":\"hotel\",\"id\":4508843,\"name\":\"Ramada Encore by Wyndham Bangalore Domlur\",\"detailUrl\":\"/Hotel_Review-g297628-d4508843-Reviews-Ramada_Encore_by_Wyndham_Bangalore_Domlur-Bengaluru_Bangalore_District_Karnataka.html\",\"numReviews\":659,\"bubbleRating\":45,\"geoPoint\":{\"latitude\":12.955479621887207,\"longitude\":77.64114379882812},\"thumbnail\":null,\"popIndexText\":\"#67 of 1,095 Bengaluru hotels\",\"accommodationCategory\":null,\"offers\":[],\"sponsoredListing\":null,\"listingKey\":\"7b1af87c-3b7c-45ab-b494-390f6397d340\"},{\"entityType\":\"hotel\",\"id\":1993170,\"name\":\"Villa Camelot\",\"detailUrl\":\"/Hotel_Review-g297628-d1993170-Reviews-Villa_Camelot-Bengaluru_Bangalore_District_Karnataka.html\",\"numReviews\":79,\"bubbleRating\":50,\"geoPoint\":{\"latitude\":13.014559745788574,\"longitude\":77.63802337646484},\"thumbnail\":null,\"popIndexText\":\"#7 of 681 Bengaluru B&amp;B and Inns\",\"accommodationCategory\":\"Bed and Breakfast\",\"offers\":[],\"sponsoredListing\":null,\"listingKey\":\"54cc9039-0137-44f4-a46d-c5a69b5caed4\"},{\"entityType\":\"hotel\",\"id\":582092,\"name\":\"Treebo Tryst Monarch\",\"detailUrl\":\"/Hotel_Review-g297628-d582092-Reviews-Treebo_Tryst_Monarch-Bengaluru_Bangalore_District_Karnataka.html\",\"numReviews\":481,\"bubbleRating\":45,\"geoPoint\":{\"latitude\":12.974054336547852,\"longitude\":77.60768127441406},\"thumbnail\":null,\"popIndexText\":\"#59 of 1,095 Bengaluru hotels\",\"accommodationCategory\":null,\"offers\":[],\"sponsoredListing\":null,\"listingKey\":\"ab0b0f74-3444-4b7a-8f0e-1c379613d82a\"},{\"entityType\":\"hotel\",\"id\":735365,\"name\":\"The Monarch Luxur\",\"detailUrl\":\"/Hotel_Review-g297628-d735365-Reviews-The_Monarch_Luxur-Bengaluru_Bangalore_District_Karnataka.html\",\"numReviews\":1468,\"bubbleRating\":45,\"geoPoint\":{\"latitude\":12.980278015136719,\"longitude\":77.60506439208984},\"thumbnail\":null,\"popIndexText\":\"#10 of 1,095 Bengaluru hotels\",\"accommodationCategory\":null,\"offers\":[],\"sponsoredListing\":null,\"listingKey\":\"fa9c18e4-892d-44e6-a1f1-2194088cbb7e\"},{\"entityType\":\"hotel\",\"id\":2443500,\"name\":\"Citrus Bangalore\",\"detailUrl\":\"/Hotel_Review-g297628-d2443500-Reviews-Citrus_Bangalore-Bengaluru_Bangalore_District_Karnataka.html\",\"numReviews\":468,\"bubbleRating\":45,\"geoPoint\":{\"latitude\":12.92326545715332,\"longitude\":77.6715316772461},\"thumbnail\":null,\"popIndexText\":\"#58 of 1,095 Bengaluru hotels\",\"accommodationCategory\":null,\"offers\":[],\"sponsoredListing\":null,\"listingKey\":\"228745e8-cf5c-43c3-9c3e-01bcd2d240a1\"},{\"entityType\":\"hotel\",\"id\":301635,\"name\":\"The Park Bangalore\",\"detailUrl\":\"/Hotel_Review-g297628-d301635-Reviews-The_Park_Bangalore-Bengaluru_Bangalore_District_Karnataka.html\",\"numReviews\":1704,\"bubbleRating\":40,\"geoPoint\":{\"latitude\":12.97400188446045,\"longitude\":77.6198501586914},\"thumbnail\":null,\"popIndexText\":\"#91 of 1,095 Bengaluru hotels\",\"accommodationCategory\":null,\"offers\":[],\"sponsoredListing\":null,\"listingKey\":\"8a105039-cc89-4ab8-9b60-043598269fb0\"},{\"entityType\":\"hotel\",\"id\":1400050,\"name\":\"JP Cordial\",\"detailUrl\":\"/Hotel_Review-g297628-d1400050-Reviews-JP_Cordial-Bengaluru_Bangalore_District_Karnataka.html\",\"numReviews\":260,\"bubbleRating\":45,\"geoPoint\":{\"latitude\":12.979227066040039,\"longitude\":77.57466888427734},\"thumbnail\":null,\"popIndexText\":\"#97 of 1,095 Bengaluru hotels\",\"accommodationCategory\":null,\"offers\":[],\"sponsoredListing\":null,\"listingKey\":\"d9a2413e-b536-48fc-92b8-b8af33b3ae89\"},{\"entityType\":\"hotel\",\"id\":503249,\"name\":\"Royal Orchid Central\",\"detailUrl\":\"/Hotel_Review-g297628-d503249-Reviews-Royal_Orchid_Central-Bengaluru_Bangalore_District_Karnataka.html\",\"numReviews\":1428,\"bubbleRating\":40,\"geoPoint\":{\"latitude\":12.975137710571289,\"longitude\":77.6153335571289},\"thumbnail\":null,\"popIndexText\":\"#62 of 1,095 Bengaluru hotels\",\"accommodationCategory\":null,\"offers\":[],\"sponsoredListing\":null,\"listingKey\":\"d8a72db7-c826-4f23-a7c7-604a33d781bb\"},{\"entityType\":\"hotel\",\"id\":14943807,\"name\":\"Radisson Bengaluru City Center\",\"detailUrl\":\"/Hotel_Review-g297628-d14943807-Reviews-Radisson_Bengaluru_City_Center-Bengaluru_Bangalore_District_Karnataka.html\",\"numReviews\":195,\"bubbleRating\":45,\"geoPoint\":{\"latitude\":12.976365089416504,\"longitude\":77.61955261230469},\"thumbnail\":null,\"popIndexText\":\"#45 of 1,095 Bengaluru hotels\",\"accommodationCategory\":null,\"offers\":[],\"sponsoredListing\":null,\"listingKey\":\"6c4e8c08-35e0-4150-adc9-5b2695cbedfb\"},{\"entityType\":\"hotel\",\"id\":6164380,\"name\":\"Golden Tulip Bangalore Electronics City\",\"detailUrl\":\"/Hotel_Review-g297628-d6164380-Reviews-Golden_Tulip_Bangalore_Electronics_City-Bengaluru_Bangalore_District_Karnataka.html\",\"numReviews\":226,\"bubbleRating\":40,\"geoPoint\":{\"latitude\":12.840134620666504,\"longitude\":77.65962219238281},\"thumbnail\":null,\"popIndexText\":\"#100 of 1,095 Bengaluru hotels\",\"accommodationCategory\":null,\"offers\":[],\"sponsoredListing\":null,\"listingKey\":\"3cceac10-9868-499a-91b1-3ae01c9fb19d\"},{\"entityType\":\"hotel\",\"id\":1870847,\"name\":\"Miraya Hotel Whitefield Bengaluru\",\"detailUrl\":\"/Hotel_Review-g297628-d1870847-Reviews-Miraya_Hotel_Whitefield_Bengaluru-Bengaluru_Bangalore_District_Karnataka.html\",\"numReviews\":723,\"bubbleRating\":45,\"geoPoint\":{\"latitude\":12.956480026245117,\"longitude\":77.7342529296875},\"thumbnail\":null,\"popIndexText\":\"#93 of 1,095 Bengaluru hotels\",\"accommodationCategory\":null,\"offers\":[],\"sponsoredListing\":null,\"listingKey\":\"4940a13e-e8e6-463d-bdb3-2a9617d18190\"},{\"entityType\":\"hotel\",\"id\":11998072,\"name\":\"Radisson Blu Atria Bengaluru\",\"detailUrl\":\"/Hotel_Review-g297628-d11998072-Reviews-Radisson_Blu_Atria_Bengaluru-Bengaluru_Bangalore_District_Karnataka.html\",\"numReviews\":642,\"bubbleRating\":45,\"geoPoint\":{\"latitude\":12.979873657226562,\"longitude\":77.58627319335938},\"thumbnail\":null,\"popIndexText\":\"#74 of 1,095 Bengaluru hotels\",\"accommodationCategory\":null,\"offers\":[],\"sponsoredListing\":null,\"listingKey\":\"dc0c12ef-759e-415b-8f45-39556b791d35\"},{\"entityType\":\"hotel\",\"id\":678020,\"name\":\"The Elanza Hotel\",\"detailUrl\":\"/Hotel_Review-g297628-d678020-Reviews-The_Elanza_Hotel-Bengaluru_Bangalore_District_Karnataka.html\",\"numReviews\":686,\"bubbleRating\":45,\"geoPoint\":{\"latitude\":12.965376853942871,\"longitude\":77.60201263427734},\"thumbnail\":null,\"popIndexText\":\"#96 of 1,095 Bengaluru hotels\",\"accommodationCategory\":null,\"offers\":[],\"sponsoredListing\":null,\"listingKey\":\"c89f9721-b326-44cd-be57-7424cd7497a5\"},{\"entityType\":\"hotel\",\"id\":1437795,\"name\":\"The Citadel Hotel\",\"detailUrl\":\"/Hotel_Review-g297628-d1437795-Reviews-The_Citadel_Hotel-Bengaluru_Bangalore_District_Karnataka.html\",\"numReviews\":376,\"bubbleRating\":40,\"geoPoint\":{\"latitude\":12.98080062866211,\"longitude\":77.57538604736328},\"thumbnail\":null,\"popIndexText\":\"#99 of 1,095 Bengaluru hotels\",\"accommodationCategory\":null,\"offers\":[],\"sponsoredListing\":null,\"listingKey\":\"9a6a1ecb-9db9-4706-9717-531e40b48e98\"},{\"entityType\":\"hotel\",\"id\":8587934,\"name\":\"Shangri-La Hotel Bengaluru\",\"detailUrl\":\"/Hotel_Review-g297628-d8587934-Reviews-Shangri_La_Hotel_Bengaluru-Bengaluru_Bangalore_District_Karnataka.html\",\"numReviews\":1257,\"bubbleRating\":45,\"geoPoint\":{\"latitude\":12.992254257202148,\"longitude\":77.58837890625},\"thumbnail\":null,\"popIndexText\":\"#28 of 1,095 Bengaluru hotels\",\"accommodationCategory\":null,\"offers\":[],\"sponsoredListing\":null,\"listingKey\":\"4c8473c8-5bd5-4b1a-96b9-379857b7d3af\"},{\"entityType\":\"hotel\",\"id\":1023579,\"name\":\"Laika Boutique Stay\",\"detailUrl\":\"/Hotel_Review-g297628-d1023579-Reviews-Laika_Boutique_Stay-Bengaluru_Bangalore_District_Karnataka.html\",\"numReviews\":314,\"bubbleRating\":50,\"geoPoint\":{\"latitude\":12.97041130065918,\"longitude\":77.6168212890625},\"thumbnail\":null,\"popIndexText\":\"#3 of 681 Bengaluru B&amp;B and Inns\",\"accommodationCategory\":\"Small Hotel\",\"offers\":[],\"sponsoredListing\":null,\"listingKey\":\"1f37abf3-0ffe-4f70-a7be-3071310052e9\"},{\"entityType\":\"hotel\",\"id\":3721806,\"name\":\"Holiday Inn Express Bengaluru Whitefield ITPL\",\"detailUrl\":\"/Hotel_Review-g297628-d3721806-Reviews-Holiday_Inn_Express_Bengaluru_Whitefield_ITPL-Bengaluru_Bangalore_District_Karnataka.html\",\"numReviews\":98,\"bubbleRating\":45,\"geoPoint\":{\"latitude\":12.98654842376709,\"longitude\":77.73271942138672},\"thumbnail\":null,\"popIndexText\":\"#87 of 1,095 Bengaluru hotels\",\"accommodationCategory\":null,\"offers\":[],\"sponsoredListing\":null,\"listingKey\":\"42d21e46-c4a9-4bcc-9f7f-81cd1f8af070\"},{\"entityType\":\"hotel\",\"id\":546040,\"name\":\"Hotel Swagath\",\"detailUrl\":\"/Hotel_Review-g297628-d546040-Reviews-Hotel_Swagath-Bengaluru_Bangalore_District_Karnataka.html\",\"numReviews\":442,\"bubbleRating\":45,\"geoPoint\":{\"latitude\":12.973770141601562,\"longitude\":77.57577514648438},\"thumbnail\":null,\"popIndexText\":\"#31 of 1,095 Bengaluru hotels\",\"accommodationCategory\":null,\"offers\":[],\"sponsoredListing\":null,\"listingKey\":\"5ff80a36-9887-4736-a5bd-786d90cc4f5b\"},{\"entityType\":\"hotel\",\"id\":1797807,\"name\":\"Svenska Design Hotel\",\"detailUrl\":\"/Hotel_Review-g297628-d1797807-Reviews-Svenska_Design_Hotel-Bengaluru_Bangalore_District_Karnataka.html\",\"numReviews\":461,\"bubbleRating\":45,\"geoPoint\":{\"latitude\":12.839326858520508,\"longitude\":77.6592025756836},\"thumbnail\":null,\"popIndexText\":\"#92 of 1,095 Bengaluru hotels\",\"accommodationCategory\":null,\"offers\":[],\"sponsoredListing\":null,\"listingKey\":\"f920a6fb-4942-4a75-9b69-8b7c813a625d\"},{\"entityType\":\"hotel\",\"id\":6592156,\"name\":\"Citrus Cunningham\",\"detailUrl\":\"/Hotel_Review-g297628-d6592156-Reviews-Citrus_Cunningham-Bengaluru_Bangalore_District_Karnataka.html\",\"numReviews\":415,\"bubbleRating\":45,\"geoPoint\":{\"latitude\":12.98610782623291,\"longitude\":77.595458984375},\"thumbnail\":null,\"popIndexText\":\"#63 of 1,095 Bengaluru hotels\",\"accommodationCategory\":null,\"offers\":[],\"sponsoredListing\":null,\"listingKey\":\"40954a55-6de8-4e8a-bd47-4d0bec8dfbdd\"},{\"entityType\":\"hotel\",\"id\":1471779,\"name\":\"Fortune Park JP Celestial\",\"detailUrl\":\"/Hotel_Review-g297628-d1471779-Reviews-Fortune_Park_JP_Celestial-Bengaluru_Bangalore_District_Karnataka.html\",\"numReviews\":652,\"bubbleRating\":40,\"geoPoint\":{\"latitude\":12.980853080749512,\"longitude\":77.57589721679688},\"thumbnail\":null,\"popIndexText\":\"#105 of 1,095 Bengaluru hotels\",\"accommodationCategory\":null,\"offers\":[],\"sponsoredListing\":null,\"listingKey\":\"f0d28fb3-3a4a-4d3d-af83-dcd9ff6d5a91\"},{\"entityType\":\"hotel\",\"id\":12825343,\"name\":\"Zone by the Park Electronic City Bengaluru\",\"detailUrl\":\"/Hotel_Review-g297628-d12825343-Reviews-Zone_by_the_Park_Electronic_City_Bengaluru-Bengaluru_Bangalore_District_Karnataka.html\",\"numReviews\":162,\"bubbleRating\":45,\"geoPoint\":{\"latitude\":12.84522533416748,\"longitude\":77.66527557373047},\"thumbnail\":null,\"popIndexText\":\"#95 of 1,095 Bengaluru hotels\",\"accommodationCategory\":null,\"offers\":[],\"sponsoredListing\":null,\"listingKey\":\"8d69153c-a520-4956-8769-0d9009f23e6f\"},{\"entityType\":\"hotel\",\"id\":602617,\"name\":\"Palm Meadows Club\",\"detailUrl\":\"/Hotel_Review-g297628-d602617-Reviews-Palm_Meadows_Club-Bengaluru_Bangalore_District_Karnataka.html\",\"numReviews\":295,\"bubbleRating\":40,\"geoPoint\":{\"latitude\":12.964052200317383,\"longitude\":77.73954772949219},\"thumbnail\":null,\"popIndexText\":\"#102 of 1,095 Bengaluru hotels\",\"accommodationCategory\":null,\"offers\":[],\"sponsoredListing\":null,\"listingKey\":\"fcde0cd5-de95-46a9-8308-40df08426057\"},{\"entityType\":\"hotel\",\"id\":3842161,\"name\":\"Springs Hotel & Spa\",\"detailUrl\":\"/Hotel_Review-g297628-d3842161-Reviews-Springs_Hotel_Spa-Bengaluru_Bangalore_District_Karnataka.html\",\"numReviews\":285,\"bubbleRating\":40,\"geoPoint\":{\"latitude\":12.956613540649414,\"longitude\":77.5835189819336},\"thumbnail\":null,\"popIndexText\":\"#103 of 1,095 Bengaluru hotels\",\"accommodationCategory\":null,\"offers\":[],\"sponsoredListing\":null,\"listingKey\":\"a2f8ce95-61a5-4d2c-9dcd-7c6b58649477\"},{\"entityType\":\"hotel\",\"id\":8874013,\"name\":\"Silverstar Hotel\",\"detailUrl\":\"/Hotel_Review-g297628-d8874013-Reviews-Silverstar_Hotel-Bengaluru_Bangalore_District_Karnataka.html\",\"numReviews\":303,\"bubbleRating\":40,\"geoPoint\":{\"latitude\":12.979161262512207,\"longitude\":77.57909393310547},\"thumbnail\":null,\"popIndexText\":\"#101 of 1,095 Bengaluru hotels\",\"accommodationCategory\":null,\"offers\":[],\"sponsoredListing\":null,\"listingKey\":\"f662bffd-1504-4a72-8c42-12feadff7fe5\"}],\"anchorPins\":[],\"hacStatus\":null,\"requestNumber\":1,\"paging\":{\"currentPage\":1,\"numberPages\":92,\"pageSize\":30,\"totalItems\":2751,\"pageOffset\":0},\"selectedLocation\":null}'"
   ]
  },
  {
   "cell_type": "code",
   "execution_count": 2,
   "metadata": {},
   "outputs": [
    {
     "data": {
      "text/plain": [
       "'{\"geoId\":297628,\"hotels\":[{\"entityType\":\"hotel\",\"id\":653907,\"name\":\"Casa Cottage\",\"detailUrl\":\"/Hotel_Review-g297628-d653907-Reviews-Casa_Cottage-Bengaluru_Bangalore_District_Karnataka.html\",\"numReviews\":508,\"bubbleRating\":45,\"geoPoint\":{\"latitude\":12.964365005493164,\"longitude\":77.6042251586914},\"thumbnail\":null,\"popIndexText\":\"#81 of 1,095 Bengaluru hotels\",\"accommodationCategory\":null,\"offers\":[],\"sponsoredListing\":null,\"listingKey\":\"2b7fbc2a-3c29-4655-8a9d-6b80ff272ee0\"},{\"entityType\":\"hotel\",\"id\":1585538,\"name\":\"Maple Suites, Serviced Residences\",\"detailUrl\":\"/Hotel_Review-g297628-d1585538-Reviews-Maple_Suites_Serviced_Residences-Bengaluru_Bangalore_District_Karnataka.html\",\"numReviews\":179,\"bubbleRating\":45,\"geoPoint\":{\"latitude\":12.905165672302246,\"longitude\":77.60383605957031},\"thumbnail\":null,\"popIndexText\":\"#80 of 1,095 Bengaluru hotels\",\"accommodationCategory\":null,\"offers\":[],\"sponsoredListing\":null,\"listingKey\":\"766b52bb-8635-4d5c-9343-06bdcb721dac\"},{\"entityType\":\"hotel\",\"id\":1015286,\"name\":\"Fortune Select Trinity\",\"detailUrl\":\"/Hotel_Review-g297628-d1015286-Reviews-Fortune_Select_Trinity-Bengaluru_Bangalore_District_Karnataka.html\",\"numReviews\":569,\"bubbleRating\":40,\"geoPoint\":{\"latitude\":12.977380752563477,\"longitude\":77.71446228027344},\"thumbnail\":null,\"popIndexText\":\"#98 of 1,095 Bengaluru hotels\",\"accommodationCategory\":null,\"offers\":[],\"sponsoredListing\":null,\"listingKey\":\"ed3d81cd-bc04-45a7-9d27-d75d55eee47e\"},{\"entityType\":\"hotel\",\"id\":6781827,\"name\":\"Ibis Bengaluru City Centre Hotel\",\"detailUrl\":\"/Hotel_Review-g297628-d6781827-Reviews-Ibis_Bengaluru_City_Centre_Hotel-Bengaluru_Bangalore_District_Karnataka.html\",\"numReviews\":963,\"bubbleRating\":45,\"geoPoint\":{\"latitude\":12.967448234558105,\"longitude\":77.59390258789062},\"thumbnail\":null,\"popIndexText\":\"#65 of 1,095 Bengaluru hotels\",\"accommodationCategory\":null,\"offers\":[],\"sponsoredListing\":null,\"listingKey\":\"845f6aad-2fa5-4b30-a7bc-8d3b81b96a8e\"},{\"entityType\":\"hotel\",\"id\":9725494,\"name\":\"Tulip Inn Bangalore\",\"detailUrl\":\"/Hotel_Review-g297628-d9725494-Reviews-Tulip_Inn_Bangalore-Bengaluru_Bangalore_District_Karnataka.html\",\"numReviews\":144,\"bubbleRating\":45,\"geoPoint\":{\"latitude\":12.999216079711914,\"longitude\":77.5836410522461},\"thumbnail\":null,\"popIndexText\":\"#107 of 1,095 Bengaluru hotels\",\"accommodationCategory\":null,\"offers\":[],\"sponsoredListing\":null,\"listingKey\":\"55f78280-3e59-4edc-b7f1-7af669ff3ef8\"},{\"entityType\":\"hotel\",\"id\":4508843,\"name\":\"Ramada Encore by Wyndham Bangalore Domlur\",\"detailUrl\":\"/Hotel_Review-g297628-d4508843-Reviews-Ramada_Encore_by_Wyndham_Bangalore_Domlur-Bengaluru_Bangalore_District_Karnataka.html\",\"numReviews\":659,\"bubbleRating\":45,\"geoPoint\":{\"latitude\":12.955479621887207,\"longitude\":77.64114379882812},\"thumbnail\":null,\"popIndexText\":\"#67 of 1,095 Bengaluru hotels\",\"accommodationCategory\":null,\"offers\":[],\"sponsoredListing\":null,\"listingKey\":\"7b1af87c-3b7c-45ab-b494-390f6397d340\"},{\"entityType\":\"hotel\",\"id\":1993170,\"name\":\"Villa Camelot\",\"detailUrl\":\"/Hotel_Review-g297628-d1993170-Reviews-Villa_Camelot-Bengaluru_Bangalore_District_Karnataka.html\",\"numReviews\":79,\"bubbleRating\":50,\"geoPoint\":{\"latitude\":13.014559745788574,\"longitude\":77.63802337646484},\"thumbnail\":null,\"popIndexText\":\"#7 of 681 Bengaluru B&amp;B and Inns\",\"accommodationCategory\":\"Bed and Breakfast\",\"offers\":[],\"sponsoredListing\":null,\"listingKey\":\"54cc9039-0137-44f4-a46d-c5a69b5caed4\"},{\"entityType\":\"hotel\",\"id\":582092,\"name\":\"Treebo Tryst Monarch\",\"detailUrl\":\"/Hotel_Review-g297628-d582092-Reviews-Treebo_Tryst_Monarch-Bengaluru_Bangalore_District_Karnataka.html\",\"numReviews\":481,\"bubbleRating\":45,\"geoPoint\":{\"latitude\":12.974054336547852,\"longitude\":77.60768127441406},\"thumbnail\":null,\"popIndexText\":\"#59 of 1,095 Bengaluru hotels\",\"accommodationCategory\":null,\"offers\":[],\"sponsoredListing\":null,\"listingKey\":\"ab0b0f74-3444-4b7a-8f0e-1c379613d82a\"},{\"entityType\":\"hotel\",\"id\":735365,\"name\":\"The Monarch Luxur\",\"detailUrl\":\"/Hotel_Review-g297628-d735365-Reviews-The_Monarch_Luxur-Bengaluru_Bangalore_District_Karnataka.html\",\"numReviews\":1468,\"bubbleRating\":45,\"geoPoint\":{\"latitude\":12.980278015136719,\"longitude\":77.60506439208984},\"thumbnail\":null,\"popIndexText\":\"#10 of 1,095 Bengaluru hotels\",\"accommodationCategory\":null,\"offers\":[],\"sponsoredListing\":null,\"listingKey\":\"fa9c18e4-892d-44e6-a1f1-2194088cbb7e\"},{\"entityType\":\"hotel\",\"id\":2443500,\"name\":\"Citrus Bangalore\",\"detailUrl\":\"/Hotel_Review-g297628-d2443500-Reviews-Citrus_Bangalore-Bengaluru_Bangalore_District_Karnataka.html\",\"numReviews\":468,\"bubbleRating\":45,\"geoPoint\":{\"latitude\":12.92326545715332,\"longitude\":77.6715316772461},\"thumbnail\":null,\"popIndexText\":\"#58 of 1,095 Bengaluru hotels\",\"accommodationCategory\":null,\"offers\":[],\"sponsoredListing\":null,\"listingKey\":\"228745e8-cf5c-43c3-9c3e-01bcd2d240a1\"},{\"entityType\":\"hotel\",\"id\":301635,\"name\":\"The Park Bangalore\",\"detailUrl\":\"/Hotel_Review-g297628-d301635-Reviews-The_Park_Bangalore-Bengaluru_Bangalore_District_Karnataka.html\",\"numReviews\":1704,\"bubbleRating\":40,\"geoPoint\":{\"latitude\":12.97400188446045,\"longitude\":77.6198501586914},\"thumbnail\":null,\"popIndexText\":\"#91 of 1,095 Bengaluru hotels\",\"accommodationCategory\":null,\"offers\":[],\"sponsoredListing\":null,\"listingKey\":\"8a105039-cc89-4ab8-9b60-043598269fb0\"},{\"entityType\":\"hotel\",\"id\":1400050,\"name\":\"JP Cordial\",\"detailUrl\":\"/Hotel_Review-g297628-d1400050-Reviews-JP_Cordial-Bengaluru_Bangalore_District_Karnataka.html\",\"numReviews\":260,\"bubbleRating\":45,\"geoPoint\":{\"latitude\":12.979227066040039,\"longitude\":77.57466888427734},\"thumbnail\":null,\"popIndexText\":\"#97 of 1,095 Bengaluru hotels\",\"accommodationCategory\":null,\"offers\":[],\"sponsoredListing\":null,\"listingKey\":\"d9a2413e-b536-48fc-92b8-b8af33b3ae89\"},{\"entityType\":\"hotel\",\"id\":503249,\"name\":\"Royal Orchid Central\",\"detailUrl\":\"/Hotel_Review-g297628-d503249-Reviews-Royal_Orchid_Central-Bengaluru_Bangalore_District_Karnataka.html\",\"numReviews\":1428,\"bubbleRating\":40,\"geoPoint\":{\"latitude\":12.975137710571289,\"longitude\":77.6153335571289},\"thumbnail\":null,\"popIndexText\":\"#62 of 1,095 Bengaluru hotels\",\"accommodationCategory\":null,\"offers\":[],\"sponsoredListing\":null,\"listingKey\":\"d8a72db7-c826-4f23-a7c7-604a33d781bb\"},{\"entityType\":\"hotel\",\"id\":14943807,\"name\":\"Radisson Bengaluru City Center\",\"detailUrl\":\"/Hotel_Review-g297628-d14943807-Reviews-Radisson_Bengaluru_City_Center-Bengaluru_Bangalore_District_Karnataka.html\",\"numReviews\":195,\"bubbleRating\":45,\"geoPoint\":{\"latitude\":12.976365089416504,\"longitude\":77.61955261230469},\"thumbnail\":null,\"popIndexText\":\"#45 of 1,095 Bengaluru hotels\",\"accommodationCategory\":null,\"offers\":[],\"sponsoredListing\":null,\"listingKey\":\"6c4e8c08-35e0-4150-adc9-5b2695cbedfb\"},{\"entityType\":\"hotel\",\"id\":6164380,\"name\":\"Golden Tulip Bangalore Electronics City\",\"detailUrl\":\"/Hotel_Review-g297628-d6164380-Reviews-Golden_Tulip_Bangalore_Electronics_City-Bengaluru_Bangalore_District_Karnataka.html\",\"numReviews\":226,\"bubbleRating\":40,\"geoPoint\":{\"latitude\":12.840134620666504,\"longitude\":77.65962219238281},\"thumbnail\":null,\"popIndexText\":\"#100 of 1,095 Bengaluru hotels\",\"accommodationCategory\":null,\"offers\":[],\"sponsoredListing\":null,\"listingKey\":\"3cceac10-9868-499a-91b1-3ae01c9fb19d\"},{\"entityType\":\"hotel\",\"id\":1870847,\"name\":\"Miraya Hotel Whitefield Bengaluru\",\"detailUrl\":\"/Hotel_Review-g297628-d1870847-Reviews-Miraya_Hotel_Whitefield_Bengaluru-Bengaluru_Bangalore_District_Karnataka.html\",\"numReviews\":723,\"bubbleRating\":45,\"geoPoint\":{\"latitude\":12.956480026245117,\"longitude\":77.7342529296875},\"thumbnail\":null,\"popIndexText\":\"#93 of 1,095 Bengaluru hotels\",\"accommodationCategory\":null,\"offers\":[],\"sponsoredListing\":null,\"listingKey\":\"4940a13e-e8e6-463d-bdb3-2a9617d18190\"},{\"entityType\":\"hotel\",\"id\":11998072,\"name\":\"Radisson Blu Atria Bengaluru\",\"detailUrl\":\"/Hotel_Review-g297628-d11998072-Reviews-Radisson_Blu_Atria_Bengaluru-Bengaluru_Bangalore_District_Karnataka.html\",\"numReviews\":642,\"bubbleRating\":45,\"geoPoint\":{\"latitude\":12.979873657226562,\"longitude\":77.58627319335938},\"thumbnail\":null,\"popIndexText\":\"#74 of 1,095 Bengaluru hotels\",\"accommodationCategory\":null,\"offers\":[],\"sponsoredListing\":null,\"listingKey\":\"dc0c12ef-759e-415b-8f45-39556b791d35\"},{\"entityType\":\"hotel\",\"id\":678020,\"name\":\"The Elanza Hotel\",\"detailUrl\":\"/Hotel_Review-g297628-d678020-Reviews-The_Elanza_Hotel-Bengaluru_Bangalore_District_Karnataka.html\",\"numReviews\":686,\"bubbleRating\":45,\"geoPoint\":{\"latitude\":12.965376853942871,\"longitude\":77.60201263427734},\"thumbnail\":null,\"popIndexText\":\"#96 of 1,095 Bengaluru hotels\",\"accommodationCategory\":null,\"offers\":[],\"sponsoredListing\":null,\"listingKey\":\"c89f9721-b326-44cd-be57-7424cd7497a5\"},{\"entityType\":\"hotel\",\"id\":1437795,\"name\":\"The Citadel Hotel\",\"detailUrl\":\"/Hotel_Review-g297628-d1437795-Reviews-The_Citadel_Hotel-Bengaluru_Bangalore_District_Karnataka.html\",\"numReviews\":376,\"bubbleRating\":40,\"geoPoint\":{\"latitude\":12.98080062866211,\"longitude\":77.57538604736328},\"thumbnail\":null,\"popIndexText\":\"#99 of 1,095 Bengaluru hotels\",\"accommodationCategory\":null,\"offers\":[],\"sponsoredListing\":null,\"listingKey\":\"9a6a1ecb-9db9-4706-9717-531e40b48e98\"},{\"entityType\":\"hotel\",\"id\":8587934,\"name\":\"Shangri-La Hotel Bengaluru\",\"detailUrl\":\"/Hotel_Review-g297628-d8587934-Reviews-Shangri_La_Hotel_Bengaluru-Bengaluru_Bangalore_District_Karnataka.html\",\"numReviews\":1257,\"bubbleRating\":45,\"geoPoint\":{\"latitude\":12.992254257202148,\"longitude\":77.58837890625},\"thumbnail\":null,\"popIndexText\":\"#28 of 1,095 Bengaluru hotels\",\"accommodationCategory\":null,\"offers\":[],\"sponsoredListing\":null,\"listingKey\":\"4c8473c8-5bd5-4b1a-96b9-379857b7d3af\"},{\"entityType\":\"hotel\",\"id\":1023579,\"name\":\"Laika Boutique Stay\",\"detailUrl\":\"/Hotel_Review-g297628-d1023579-Reviews-Laika_Boutique_Stay-Bengaluru_Bangalore_District_Karnataka.html\",\"numReviews\":314,\"bubbleRating\":50,\"geoPoint\":{\"latitude\":12.97041130065918,\"longitude\":77.6168212890625},\"thumbnail\":null,\"popIndexText\":\"#3 of 681 Bengaluru B&amp;B and Inns\",\"accommodationCategory\":\"Small Hotel\",\"offers\":[],\"sponsoredListing\":null,\"listingKey\":\"1f37abf3-0ffe-4f70-a7be-3071310052e9\"},{\"entityType\":\"hotel\",\"id\":3721806,\"name\":\"Holiday Inn Express Bengaluru Whitefield ITPL\",\"detailUrl\":\"/Hotel_Review-g297628-d3721806-Reviews-Holiday_Inn_Express_Bengaluru_Whitefield_ITPL-Bengaluru_Bangalore_District_Karnataka.html\",\"numReviews\":98,\"bubbleRating\":45,\"geoPoint\":{\"latitude\":12.98654842376709,\"longitude\":77.73271942138672},\"thumbnail\":null,\"popIndexText\":\"#87 of 1,095 Bengaluru hotels\",\"accommodationCategory\":null,\"offers\":[],\"sponsoredListing\":null,\"listingKey\":\"42d21e46-c4a9-4bcc-9f7f-81cd1f8af070\"},{\"entityType\":\"hotel\",\"id\":546040,\"name\":\"Hotel Swagath\",\"detailUrl\":\"/Hotel_Review-g297628-d546040-Reviews-Hotel_Swagath-Bengaluru_Bangalore_District_Karnataka.html\",\"numReviews\":442,\"bubbleRating\":45,\"geoPoint\":{\"latitude\":12.973770141601562,\"longitude\":77.57577514648438},\"thumbnail\":null,\"popIndexText\":\"#31 of 1,095 Bengaluru hotels\",\"accommodationCategory\":null,\"offers\":[],\"sponsoredListing\":null,\"listingKey\":\"5ff80a36-9887-4736-a5bd-786d90cc4f5b\"},{\"entityType\":\"hotel\",\"id\":1797807,\"name\":\"Svenska Design Hotel\",\"detailUrl\":\"/Hotel_Review-g297628-d1797807-Reviews-Svenska_Design_Hotel-Bengaluru_Bangalore_District_Karnataka.html\",\"numReviews\":461,\"bubbleRating\":45,\"geoPoint\":{\"latitude\":12.839326858520508,\"longitude\":77.6592025756836},\"thumbnail\":null,\"popIndexText\":\"#92 of 1,095 Bengaluru hotels\",\"accommodationCategory\":null,\"offers\":[],\"sponsoredListing\":null,\"listingKey\":\"f920a6fb-4942-4a75-9b69-8b7c813a625d\"},{\"entityType\":\"hotel\",\"id\":6592156,\"name\":\"Citrus Cunningham\",\"detailUrl\":\"/Hotel_Review-g297628-d6592156-Reviews-Citrus_Cunningham-Bengaluru_Bangalore_District_Karnataka.html\",\"numReviews\":415,\"bubbleRating\":45,\"geoPoint\":{\"latitude\":12.98610782623291,\"longitude\":77.595458984375},\"thumbnail\":null,\"popIndexText\":\"#63 of 1,095 Bengaluru hotels\",\"accommodationCategory\":null,\"offers\":[],\"sponsoredListing\":null,\"listingKey\":\"40954a55-6de8-4e8a-bd47-4d0bec8dfbdd\"},{\"entityType\":\"hotel\",\"id\":1471779,\"name\":\"Fortune Park JP Celestial\",\"detailUrl\":\"/Hotel_Review-g297628-d1471779-Reviews-Fortune_Park_JP_Celestial-Bengaluru_Bangalore_District_Karnataka.html\",\"numReviews\":652,\"bubbleRating\":40,\"geoPoint\":{\"latitude\":12.980853080749512,\"longitude\":77.57589721679688},\"thumbnail\":null,\"popIndexText\":\"#105 of 1,095 Bengaluru hotels\",\"accommodationCategory\":null,\"offers\":[],\"sponsoredListing\":null,\"listingKey\":\"f0d28fb3-3a4a-4d3d-af83-dcd9ff6d5a91\"},{\"entityType\":\"hotel\",\"id\":12825343,\"name\":\"Zone by the Park Electronic City Bengaluru\",\"detailUrl\":\"/Hotel_Review-g297628-d12825343-Reviews-Zone_by_the_Park_Electronic_City_Bengaluru-Bengaluru_Bangalore_District_Karnataka.html\",\"numReviews\":162,\"bubbleRating\":45,\"geoPoint\":{\"latitude\":12.84522533416748,\"longitude\":77.66527557373047},\"thumbnail\":null,\"popIndexText\":\"#95 of 1,095 Bengaluru hotels\",\"accommodationCategory\":null,\"offers\":[],\"sponsoredListing\":null,\"listingKey\":\"8d69153c-a520-4956-8769-0d9009f23e6f\"},{\"entityType\":\"hotel\",\"id\":602617,\"name\":\"Palm Meadows Club\",\"detailUrl\":\"/Hotel_Review-g297628-d602617-Reviews-Palm_Meadows_Club-Bengaluru_Bangalore_District_Karnataka.html\",\"numReviews\":295,\"bubbleRating\":40,\"geoPoint\":{\"latitude\":12.964052200317383,\"longitude\":77.73954772949219},\"thumbnail\":null,\"popIndexText\":\"#102 of 1,095 Bengaluru hotels\",\"accommodationCategory\":null,\"offers\":[],\"sponsoredListing\":null,\"listingKey\":\"fcde0cd5-de95-46a9-8308-40df08426057\"},{\"entityType\":\"hotel\",\"id\":3842161,\"name\":\"Springs Hotel & Spa\",\"detailUrl\":\"/Hotel_Review-g297628-d3842161-Reviews-Springs_Hotel_Spa-Bengaluru_Bangalore_District_Karnataka.html\",\"numReviews\":285,\"bubbleRating\":40,\"geoPoint\":{\"latitude\":12.956613540649414,\"longitude\":77.5835189819336},\"thumbnail\":null,\"popIndexText\":\"#103 of 1,095 Bengaluru hotels\",\"accommodationCategory\":null,\"offers\":[],\"sponsoredListing\":null,\"listingKey\":\"a2f8ce95-61a5-4d2c-9dcd-7c6b58649477\"},{\"entityType\":\"hotel\",\"id\":8874013,\"name\":\"Silverstar Hotel\",\"detailUrl\":\"/Hotel_Review-g297628-d8874013-Reviews-Silverstar_Hotel-Bengaluru_Bangalore_District_Karnataka.html\",\"numReviews\":303,\"bubbleRating\":40,\"geoPoint\":{\"latitude\":12.979161262512207,\"longitude\":77.57909393310547},\"thumbnail\":null,\"popIndexText\":\"#101 of 1,095 Bengaluru hotels\",\"accommodationCategory\":null,\"offers\":[],\"sponsoredListing\":null,\"listingKey\":\"f662bffd-1504-4a72-8c42-12feadff7fe5\"}],\"anchorPins\":[],\"hacStatus\":null,\"requestNumber\":1,\"paging\":{\"currentPage\":1,\"numberPages\":92,\"pageSize\":30,\"totalItems\":2751,\"pageOffset\":0},\"selectedLocation\":null}'"
      ]
     },
     "execution_count": 2,
     "metadata": {},
     "output_type": "execute_result"
    }
   ],
   "source": [
    "str"
   ]
  },
  {
   "cell_type": "code",
   "execution_count": 3,
   "metadata": {},
   "outputs": [],
   "source": [
    "str = str.replace(str[str.find(\"anchorPins\"):],'')"
   ]
  },
  {
   "cell_type": "code",
   "execution_count": 22,
   "metadata": {},
   "outputs": [
    {
     "data": {
      "text/plain": [
       "'{\"geoId\":297628,\"hotels\":[{\"entityType\":\"hotel\",\"id\":653907,\"name\":\"Casa Cottage\",\"detailUrl\":\"/Hotel_Review-g297628-d653907-Reviews-Casa_Cottage-Bengaluru_Bangalore_District_Karnataka.html\",\"numReviews\":508,\"bubbleRating\":45,\"geoPoint\":{\"latitude\":12.964365005493164,\"longitude\":77.6042251586914},\"thumbnail\":null,\"popIndexText\":\"#81 of 1,095 Bengaluru hotels\",\"accommodationCategory\":null,\"offers\":[],\"sponsoredListing\":null,\"listingKey\":\"2b7fbc2a-3c29-4655-8a9d-6b80ff272ee0\"},{\"entityType\":\"hotel\",\"id\":1585538,\"name\":\"Maple Suites, Serviced Residences\",\"detailUrl\":\"/Hotel_Review-g297628-d1585538-Reviews-Maple_Suites_Serviced_Residences-Bengaluru_Bangalore_District_Karnataka.html\",\"numReviews\":179,\"bubbleRating\":45,\"geoPoint\":{\"latitude\":12.905165672302246,\"longitude\":77.60383605957031},\"thumbnail\":null,\"popIndexText\":\"#80 of 1,095 Bengaluru hotels\",\"accommodationCategory\":null,\"offers\":[],\"sponsoredListing\":null,\"listingKey\":\"766b52bb-8635-4d5c-9343-06bdcb721dac\"},{\"entityType\":\"hotel\",\"id\":1015286,\"name\":\"Fortune Select Trinity\",\"detailUrl\":\"/Hotel_Review-g297628-d1015286-Reviews-Fortune_Select_Trinity-Bengaluru_Bangalore_District_Karnataka.html\",\"numReviews\":569,\"bubbleRating\":40,\"geoPoint\":{\"latitude\":12.977380752563477,\"longitude\":77.71446228027344},\"thumbnail\":null,\"popIndexText\":\"#98 of 1,095 Bengaluru hotels\",\"accommodationCategory\":null,\"offers\":[],\"sponsoredListing\":null,\"listingKey\":\"ed3d81cd-bc04-45a7-9d27-d75d55eee47e\"},{\"entityType\":\"hotel\",\"id\":6781827,\"name\":\"Ibis Bengaluru City Centre Hotel\",\"detailUrl\":\"/Hotel_Review-g297628-d6781827-Reviews-Ibis_Bengaluru_City_Centre_Hotel-Bengaluru_Bangalore_District_Karnataka.html\",\"numReviews\":963,\"bubbleRating\":45,\"geoPoint\":{\"latitude\":12.967448234558105,\"longitude\":77.59390258789062},\"thumbnail\":null,\"popIndexText\":\"#65 of 1,095 Bengaluru hotels\",\"accommodationCategory\":null,\"offers\":[],\"sponsoredListing\":null,\"listingKey\":\"845f6aad-2fa5-4b30-a7bc-8d3b81b96a8e\"},{\"entityType\":\"hotel\",\"id\":9725494,\"name\":\"Tulip Inn Bangalore\",\"detailUrl\":\"/Hotel_Review-g297628-d9725494-Reviews-Tulip_Inn_Bangalore-Bengaluru_Bangalore_District_Karnataka.html\",\"numReviews\":144,\"bubbleRating\":45,\"geoPoint\":{\"latitude\":12.999216079711914,\"longitude\":77.5836410522461},\"thumbnail\":null,\"popIndexText\":\"#107 of 1,095 Bengaluru hotels\",\"accommodationCategory\":null,\"offers\":[],\"sponsoredListing\":null,\"listingKey\":\"55f78280-3e59-4edc-b7f1-7af669ff3ef8\"},{\"entityType\":\"hotel\",\"id\":4508843,\"name\":\"Ramada Encore by Wyndham Bangalore Domlur\",\"detailUrl\":\"/Hotel_Review-g297628-d4508843-Reviews-Ramada_Encore_by_Wyndham_Bangalore_Domlur-Bengaluru_Bangalore_District_Karnataka.html\",\"numReviews\":659,\"bubbleRating\":45,\"geoPoint\":{\"latitude\":12.955479621887207,\"longitude\":77.64114379882812},\"thumbnail\":null,\"popIndexText\":\"#67 of 1,095 Bengaluru hotels\",\"accommodationCategory\":null,\"offers\":[],\"sponsoredListing\":null,\"listingKey\":\"7b1af87c-3b7c-45ab-b494-390f6397d340\"},{\"entityType\":\"hotel\",\"id\":1993170,\"name\":\"Villa Camelot\",\"detailUrl\":\"/Hotel_Review-g297628-d1993170-Reviews-Villa_Camelot-Bengaluru_Bangalore_District_Karnataka.html\",\"numReviews\":79,\"bubbleRating\":50,\"geoPoint\":{\"latitude\":13.014559745788574,\"longitude\":77.63802337646484},\"thumbnail\":null,\"popIndexText\":\"#7 of 681 Bengaluru B&amp;B and Inns\",\"accommodationCategory\":\"Bed and Breakfast\",\"offers\":[],\"sponsoredListing\":null,\"listingKey\":\"54cc9039-0137-44f4-a46d-c5a69b5caed4\"},{\"entityType\":\"hotel\",\"id\":582092,\"name\":\"Treebo Tryst Monarch\",\"detailUrl\":\"/Hotel_Review-g297628-d582092-Reviews-Treebo_Tryst_Monarch-Bengaluru_Bangalore_District_Karnataka.html\",\"numReviews\":481,\"bubbleRating\":45,\"geoPoint\":{\"latitude\":12.974054336547852,\"longitude\":77.60768127441406},\"thumbnail\":null,\"popIndexText\":\"#59 of 1,095 Bengaluru hotels\",\"accommodationCategory\":null,\"offers\":[],\"sponsoredListing\":null,\"listingKey\":\"ab0b0f74-3444-4b7a-8f0e-1c379613d82a\"},{\"entityType\":\"hotel\",\"id\":735365,\"name\":\"The Monarch Luxur\",\"detailUrl\":\"/Hotel_Review-g297628-d735365-Reviews-The_Monarch_Luxur-Bengaluru_Bangalore_District_Karnataka.html\",\"numReviews\":1468,\"bubbleRating\":45,\"geoPoint\":{\"latitude\":12.980278015136719,\"longitude\":77.60506439208984},\"thumbnail\":null,\"popIndexText\":\"#10 of 1,095 Bengaluru hotels\",\"accommodationCategory\":null,\"offers\":[],\"sponsoredListing\":null,\"listingKey\":\"fa9c18e4-892d-44e6-a1f1-2194088cbb7e\"},{\"entityType\":\"hotel\",\"id\":2443500,\"name\":\"Citrus Bangalore\",\"detailUrl\":\"/Hotel_Review-g297628-d2443500-Reviews-Citrus_Bangalore-Bengaluru_Bangalore_District_Karnataka.html\",\"numReviews\":468,\"bubbleRating\":45,\"geoPoint\":{\"latitude\":12.92326545715332,\"longitude\":77.6715316772461},\"thumbnail\":null,\"popIndexText\":\"#58 of 1,095 Bengaluru hotels\",\"accommodationCategory\":null,\"offers\":[],\"sponsoredListing\":null,\"listingKey\":\"228745e8-cf5c-43c3-9c3e-01bcd2d240a1\"},{\"entityType\":\"hotel\",\"id\":301635,\"name\":\"The Park Bangalore\",\"detailUrl\":\"/Hotel_Review-g297628-d301635-Reviews-The_Park_Bangalore-Bengaluru_Bangalore_District_Karnataka.html\",\"numReviews\":1704,\"bubbleRating\":40,\"geoPoint\":{\"latitude\":12.97400188446045,\"longitude\":77.6198501586914},\"thumbnail\":null,\"popIndexText\":\"#91 of 1,095 Bengaluru hotels\",\"accommodationCategory\":null,\"offers\":[],\"sponsoredListing\":null,\"listingKey\":\"8a105039-cc89-4ab8-9b60-043598269fb0\"},{\"entityType\":\"hotel\",\"id\":1400050,\"name\":\"JP Cordial\",\"detailUrl\":\"/Hotel_Review-g297628-d1400050-Reviews-JP_Cordial-Bengaluru_Bangalore_District_Karnataka.html\",\"numReviews\":260,\"bubbleRating\":45,\"geoPoint\":{\"latitude\":12.979227066040039,\"longitude\":77.57466888427734},\"thumbnail\":null,\"popIndexText\":\"#97 of 1,095 Bengaluru hotels\",\"accommodationCategory\":null,\"offers\":[],\"sponsoredListing\":null,\"listingKey\":\"d9a2413e-b536-48fc-92b8-b8af33b3ae89\"},{\"entityType\":\"hotel\",\"id\":503249,\"name\":\"Royal Orchid Central\",\"detailUrl\":\"/Hotel_Review-g297628-d503249-Reviews-Royal_Orchid_Central-Bengaluru_Bangalore_District_Karnataka.html\",\"numReviews\":1428,\"bubbleRating\":40,\"geoPoint\":{\"latitude\":12.975137710571289,\"longitude\":77.6153335571289},\"thumbnail\":null,\"popIndexText\":\"#62 of 1,095 Bengaluru hotels\",\"accommodationCategory\":null,\"offers\":[],\"sponsoredListing\":null,\"listingKey\":\"d8a72db7-c826-4f23-a7c7-604a33d781bb\"},{\"entityType\":\"hotel\",\"id\":14943807,\"name\":\"Radisson Bengaluru City Center\",\"detailUrl\":\"/Hotel_Review-g297628-d14943807-Reviews-Radisson_Bengaluru_City_Center-Bengaluru_Bangalore_District_Karnataka.html\",\"numReviews\":195,\"bubbleRating\":45,\"geoPoint\":{\"latitude\":12.976365089416504,\"longitude\":77.61955261230469},\"thumbnail\":null,\"popIndexText\":\"#45 of 1,095 Bengaluru hotels\",\"accommodationCategory\":null,\"offers\":[],\"sponsoredListing\":null,\"listingKey\":\"6c4e8c08-35e0-4150-adc9-5b2695cbedfb\"},{\"entityType\":\"hotel\",\"id\":6164380,\"name\":\"Golden Tulip Bangalore Electronics City\",\"detailUrl\":\"/Hotel_Review-g297628-d6164380-Reviews-Golden_Tulip_Bangalore_Electronics_City-Bengaluru_Bangalore_District_Karnataka.html\",\"numReviews\":226,\"bubbleRating\":40,\"geoPoint\":{\"latitude\":12.840134620666504,\"longitude\":77.65962219238281},\"thumbnail\":null,\"popIndexText\":\"#100 of 1,095 Bengaluru hotels\",\"accommodationCategory\":null,\"offers\":[],\"sponsoredListing\":null,\"listingKey\":\"3cceac10-9868-499a-91b1-3ae01c9fb19d\"},{\"entityType\":\"hotel\",\"id\":1870847,\"name\":\"Miraya Hotel Whitefield Bengaluru\",\"detailUrl\":\"/Hotel_Review-g297628-d1870847-Reviews-Miraya_Hotel_Whitefield_Bengaluru-Bengaluru_Bangalore_District_Karnataka.html\",\"numReviews\":723,\"bubbleRating\":45,\"geoPoint\":{\"latitude\":12.956480026245117,\"longitude\":77.7342529296875},\"thumbnail\":null,\"popIndexText\":\"#93 of 1,095 Bengaluru hotels\",\"accommodationCategory\":null,\"offers\":[],\"sponsoredListing\":null,\"listingKey\":\"4940a13e-e8e6-463d-bdb3-2a9617d18190\"},{\"entityType\":\"hotel\",\"id\":11998072,\"name\":\"Radisson Blu Atria Bengaluru\",\"detailUrl\":\"/Hotel_Review-g297628-d11998072-Reviews-Radisson_Blu_Atria_Bengaluru-Bengaluru_Bangalore_District_Karnataka.html\",\"numReviews\":642,\"bubbleRating\":45,\"geoPoint\":{\"latitude\":12.979873657226562,\"longitude\":77.58627319335938},\"thumbnail\":null,\"popIndexText\":\"#74 of 1,095 Bengaluru hotels\",\"accommodationCategory\":null,\"offers\":[],\"sponsoredListing\":null,\"listingKey\":\"dc0c12ef-759e-415b-8f45-39556b791d35\"},{\"entityType\":\"hotel\",\"id\":678020,\"name\":\"The Elanza Hotel\",\"detailUrl\":\"/Hotel_Review-g297628-d678020-Reviews-The_Elanza_Hotel-Bengaluru_Bangalore_District_Karnataka.html\",\"numReviews\":686,\"bubbleRating\":45,\"geoPoint\":{\"latitude\":12.965376853942871,\"longitude\":77.60201263427734},\"thumbnail\":null,\"popIndexText\":\"#96 of 1,095 Bengaluru hotels\",\"accommodationCategory\":null,\"offers\":[],\"sponsoredListing\":null,\"listingKey\":\"c89f9721-b326-44cd-be57-7424cd7497a5\"},{\"entityType\":\"hotel\",\"id\":1437795,\"name\":\"The Citadel Hotel\",\"detailUrl\":\"/Hotel_Review-g297628-d1437795-Reviews-The_Citadel_Hotel-Bengaluru_Bangalore_District_Karnataka.html\",\"numReviews\":376,\"bubbleRating\":40,\"geoPoint\":{\"latitude\":12.98080062866211,\"longitude\":77.57538604736328},\"thumbnail\":null,\"popIndexText\":\"#99 of 1,095 Bengaluru hotels\",\"accommodationCategory\":null,\"offers\":[],\"sponsoredListing\":null,\"listingKey\":\"9a6a1ecb-9db9-4706-9717-531e40b48e98\"},{\"entityType\":\"hotel\",\"id\":8587934,\"name\":\"Shangri-La Hotel Bengaluru\",\"detailUrl\":\"/Hotel_Review-g297628-d8587934-Reviews-Shangri_La_Hotel_Bengaluru-Bengaluru_Bangalore_District_Karnataka.html\",\"numReviews\":1257,\"bubbleRating\":45,\"geoPoint\":{\"latitude\":12.992254257202148,\"longitude\":77.58837890625},\"thumbnail\":null,\"popIndexText\":\"#28 of 1,095 Bengaluru hotels\",\"accommodationCategory\":null,\"offers\":[],\"sponsoredListing\":null,\"listingKey\":\"4c8473c8-5bd5-4b1a-96b9-379857b7d3af\"},{\"entityType\":\"hotel\",\"id\":1023579,\"name\":\"Laika Boutique Stay\",\"detailUrl\":\"/Hotel_Review-g297628-d1023579-Reviews-Laika_Boutique_Stay-Bengaluru_Bangalore_District_Karnataka.html\",\"numReviews\":314,\"bubbleRating\":50,\"geoPoint\":{\"latitude\":12.97041130065918,\"longitude\":77.6168212890625},\"thumbnail\":null,\"popIndexText\":\"#3 of 681 Bengaluru B&amp;B and Inns\",\"accommodationCategory\":\"Small Hotel\",\"offers\":[],\"sponsoredListing\":null,\"listingKey\":\"1f37abf3-0ffe-4f70-a7be-3071310052e9\"},{\"entityType\":\"hotel\",\"id\":3721806,\"name\":\"Holiday Inn Express Bengaluru Whitefield ITPL\",\"detailUrl\":\"/Hotel_Review-g297628-d3721806-Reviews-Holiday_Inn_Express_Bengaluru_Whitefield_ITPL-Bengaluru_Bangalore_District_Karnataka.html\",\"numReviews\":98,\"bubbleRating\":45,\"geoPoint\":{\"latitude\":12.98654842376709,\"longitude\":77.73271942138672},\"thumbnail\":null,\"popIndexText\":\"#87 of 1,095 Bengaluru hotels\",\"accommodationCategory\":null,\"offers\":[],\"sponsoredListing\":null,\"listingKey\":\"42d21e46-c4a9-4bcc-9f7f-81cd1f8af070\"},{\"entityType\":\"hotel\",\"id\":546040,\"name\":\"Hotel Swagath\",\"detailUrl\":\"/Hotel_Review-g297628-d546040-Reviews-Hotel_Swagath-Bengaluru_Bangalore_District_Karnataka.html\",\"numReviews\":442,\"bubbleRating\":45,\"geoPoint\":{\"latitude\":12.973770141601562,\"longitude\":77.57577514648438},\"thumbnail\":null,\"popIndexText\":\"#31 of 1,095 Bengaluru hotels\",\"accommodationCategory\":null,\"offers\":[],\"sponsoredListing\":null,\"listingKey\":\"5ff80a36-9887-4736-a5bd-786d90cc4f5b\"},{\"entityType\":\"hotel\",\"id\":1797807,\"name\":\"Svenska Design Hotel\",\"detailUrl\":\"/Hotel_Review-g297628-d1797807-Reviews-Svenska_Design_Hotel-Bengaluru_Bangalore_District_Karnataka.html\",\"numReviews\":461,\"bubbleRating\":45,\"geoPoint\":{\"latitude\":12.839326858520508,\"longitude\":77.6592025756836},\"thumbnail\":null,\"popIndexText\":\"#92 of 1,095 Bengaluru hotels\",\"accommodationCategory\":null,\"offers\":[],\"sponsoredListing\":null,\"listingKey\":\"f920a6fb-4942-4a75-9b69-8b7c813a625d\"},{\"entityType\":\"hotel\",\"id\":6592156,\"name\":\"Citrus Cunningham\",\"detailUrl\":\"/Hotel_Review-g297628-d6592156-Reviews-Citrus_Cunningham-Bengaluru_Bangalore_District_Karnataka.html\",\"numReviews\":415,\"bubbleRating\":45,\"geoPoint\":{\"latitude\":12.98610782623291,\"longitude\":77.595458984375},\"thumbnail\":null,\"popIndexText\":\"#63 of 1,095 Bengaluru hotels\",\"accommodationCategory\":null,\"offers\":[],\"sponsoredListing\":null,\"listingKey\":\"40954a55-6de8-4e8a-bd47-4d0bec8dfbdd\"},{\"entityType\":\"hotel\",\"id\":1471779,\"name\":\"Fortune Park JP Celestial\",\"detailUrl\":\"/Hotel_Review-g297628-d1471779-Reviews-Fortune_Park_JP_Celestial-Bengaluru_Bangalore_District_Karnataka.html\",\"numReviews\":652,\"bubbleRating\":40,\"geoPoint\":{\"latitude\":12.980853080749512,\"longitude\":77.57589721679688},\"thumbnail\":null,\"popIndexText\":\"#105 of 1,095 Bengaluru hotels\",\"accommodationCategory\":null,\"offers\":[],\"sponsoredListing\":null,\"listingKey\":\"f0d28fb3-3a4a-4d3d-af83-dcd9ff6d5a91\"},{\"entityType\":\"hotel\",\"id\":12825343,\"name\":\"Zone by the Park Electronic City Bengaluru\",\"detailUrl\":\"/Hotel_Review-g297628-d12825343-Reviews-Zone_by_the_Park_Electronic_City_Bengaluru-Bengaluru_Bangalore_District_Karnataka.html\",\"numReviews\":162,\"bubbleRating\":45,\"geoPoint\":{\"latitude\":12.84522533416748,\"longitude\":77.66527557373047},\"thumbnail\":null,\"popIndexText\":\"#95 of 1,095 Bengaluru hotels\",\"accommodationCategory\":null,\"offers\":[],\"sponsoredListing\":null,\"listingKey\":\"8d69153c-a520-4956-8769-0d9009f23e6f\"},{\"entityType\":\"hotel\",\"id\":602617,\"name\":\"Palm Meadows Club\",\"detailUrl\":\"/Hotel_Review-g297628-d602617-Reviews-Palm_Meadows_Club-Bengaluru_Bangalore_District_Karnataka.html\",\"numReviews\":295,\"bubbleRating\":40,\"geoPoint\":{\"latitude\":12.964052200317383,\"longitude\":77.73954772949219},\"thumbnail\":null,\"popIndexText\":\"#102 of 1,095 Bengaluru hotels\",\"accommodationCategory\":null,\"offers\":[],\"sponsoredListing\":null,\"listingKey\":\"fcde0cd5-de95-46a9-8308-40df08426057\"},{\"entityType\":\"hotel\",\"id\":3842161,\"name\":\"Springs Hotel & Spa\",\"detailUrl\":\"/Hotel_Review-g297628-d3842161-Reviews-Springs_Hotel_Spa-Bengaluru_Bangalore_District_Karnataka.html\",\"numReviews\":285,\"bubbleRating\":40,\"geoPoint\":{\"latitude\":12.956613540649414,\"longitude\":77.5835189819336},\"thumbnail\":null,\"popIndexText\":\"#103 of 1,095 Bengaluru hotels\",\"accommodationCategory\":null,\"offers\":[],\"sponsoredListing\":null,\"listingKey\":\"a2f8ce95-61a5-4d2c-9dcd-7c6b58649477\"},{\"entityType\":\"hotel\",\"id\":8874013,\"name\":\"Silverstar Hotel\",\"detailUrl\":\"/Hotel_Review-g297628-d8874013-Reviews-Silverstar_Hotel-Bengaluru_Bangalore_District_Karnataka.html\",\"numReviews\":303,\"bubbleRating\":40,\"geoPoint\":{\"latitude\":12.979161262512207,\"longitude\":77.57909393310547},\"thumbnail\":null,\"popIndexText\":\"#101 of 1,095 Bengaluru hotels\",\"accommodationCategory\":null,\"offers\":[],\"sponsoredListing\":null,\"listingKey\":\"f662bffd-1504-4a72-8c42-12feadff7fe5\"}],\"anchorPins\":[],\"hacStatus\":null,\"requestNumber\":1,\"paging\":{\"currentPage\":1,\"numberPages\":92,\"pageSize\":30,\"totalItems\":2751,\"pageOffset\":0},\"selectedLocation\":null}'"
      ]
     },
     "execution_count": 22,
     "metadata": {},
     "output_type": "execute_result"
    }
   ],
   "source": [
    "str"
   ]
  },
  {
   "cell_type": "code",
   "execution_count": 5,
   "metadata": {},
   "outputs": [],
   "source": [
    "str = str.replace(str[:str.find(\"[\")+1],'')"
   ]
  },
  {
   "cell_type": "code",
   "execution_count": 6,
   "metadata": {},
   "outputs": [],
   "source": [
    "str = str.replace('\"','')\n",
    "str = str.replace(\"geoPoint:{\",'')"
   ]
  },
  {
   "cell_type": "code",
   "execution_count": 7,
   "metadata": {},
   "outputs": [],
   "source": [
    "lst = str.split(\"{entityType:hotel,\")"
   ]
  },
  {
   "cell_type": "code",
   "execution_count": 8,
   "metadata": {},
   "outputs": [
    {
     "data": {
      "text/plain": [
       "['id:653907',\n",
       " 'name:Casa Cottage',\n",
       " 'detailUrl:/Hotel_Review-g297628-d653907-Reviews-Casa_Cottage-Bengaluru_Bangalore_District_Karnataka.html',\n",
       " 'numReviews:508',\n",
       " 'bubbleRating:45',\n",
       " 'latitude:12.964365005493164',\n",
       " 'longitude:77.6042251586914}',\n",
       " 'thumbnail:null',\n",
       " 'popIndexText:#81 of 1',\n",
       " '095 Bengaluru hotels',\n",
       " 'accommodationCategory:null',\n",
       " 'offers:[]',\n",
       " 'sponsoredListing:null',\n",
       " 'listingKey:2b7fbc2a-3c29-4655-8a9d-6b80ff272ee0}',\n",
       " '']"
      ]
     },
     "execution_count": 8,
     "metadata": {},
     "output_type": "execute_result"
    }
   ],
   "source": [
    "lst[1].split(',')"
   ]
  },
  {
   "cell_type": "code",
   "execution_count": 9,
   "metadata": {},
   "outputs": [
    {
     "data": {
      "text/plain": [
       "list"
      ]
     },
     "execution_count": 9,
     "metadata": {},
     "output_type": "execute_result"
    }
   ],
   "source": [
    "type(lst[1].split(','))\n"
   ]
  },
  {
   "cell_type": "code",
   "execution_count": 12,
   "metadata": {},
   "outputs": [],
   "source": [
    "import json \n",
    "for i in range(1,len(lst)-1):\n",
    "    json_str = json.dumps(lst[i].split(','))"
   ]
  },
  {
   "cell_type": "code",
   "execution_count": 13,
   "metadata": {},
   "outputs": [
    {
     "data": {
      "text/plain": [
       "'[\"id:3842161\", \"name:Springs Hotel & Spa\", \"detailUrl:/Hotel_Review-g297628-d3842161-Reviews-Springs_Hotel_Spa-Bengaluru_Bangalore_District_Karnataka.html\", \"numReviews:285\", \"bubbleRating:40\", \"latitude:12.956613540649414\", \"longitude:77.5835189819336}\", \"thumbnail:null\", \"popIndexText:#103 of 1\", \"095 Bengaluru hotels\", \"accommodationCategory:null\", \"offers:[]\", \"sponsoredListing:null\", \"listingKey:a2f8ce95-61a5-4d2c-9dcd-7c6b58649477}\", \"\"]'"
      ]
     },
     "execution_count": 13,
     "metadata": {},
     "output_type": "execute_result"
    }
   ],
   "source": [
    "json_str"
   ]
  },
  {
   "cell_type": "code",
   "execution_count": 14,
   "metadata": {},
   "outputs": [
    {
     "ename": "ValueError",
     "evalue": "dictionary update sequence element #0 has length 9; 2 is required",
     "output_type": "error",
     "traceback": [
      "\u001b[0;31m---------------------------------------------------------------------------\u001b[0m",
      "\u001b[0;31mValueError\u001b[0m                                Traceback (most recent call last)",
      "\u001b[0;32m<ipython-input-14-7710f4a0e1d7>\u001b[0m in \u001b[0;36m<module>\u001b[0;34m\u001b[0m\n\u001b[0;32m----> 1\u001b[0;31m \u001b[0mdict\u001b[0m\u001b[0;34m(\u001b[0m\u001b[0mlst\u001b[0m\u001b[0;34m[\u001b[0m\u001b[0;36m1\u001b[0m\u001b[0;34m]\u001b[0m\u001b[0;34m.\u001b[0m\u001b[0msplit\u001b[0m\u001b[0;34m(\u001b[0m\u001b[0;34m','\u001b[0m\u001b[0;34m)\u001b[0m\u001b[0;34m)\u001b[0m\u001b[0;34m\u001b[0m\u001b[0;34m\u001b[0m\u001b[0m\n\u001b[0m",
      "\u001b[0;31mValueError\u001b[0m: dictionary update sequence element #0 has length 9; 2 is required"
     ]
    }
   ],
   "source": [
    "dict(lst[1].split(','))"
   ]
  },
  {
   "cell_type": "code",
   "execution_count": 18,
   "metadata": {},
   "outputs": [
    {
     "ename": "AttributeError",
     "evalue": "'dict' object has no attribute 'lst'",
     "output_type": "error",
     "traceback": [
      "\u001b[0;31m---------------------------------------------------------------------------\u001b[0m",
      "\u001b[0;31mAttributeError\u001b[0m                            Traceback (most recent call last)",
      "\u001b[0;32m<ipython-input-18-70ce96e4deb6>\u001b[0m in \u001b[0;36m<module>\u001b[0;34m\u001b[0m\n\u001b[1;32m      1\u001b[0m \u001b[0mdic\u001b[0m\u001b[0;34m=\u001b[0m\u001b[0;34m{\u001b[0m\u001b[0;34m}\u001b[0m\u001b[0;34m\u001b[0m\u001b[0;34m\u001b[0m\u001b[0m\n\u001b[0;32m----> 2\u001b[0;31m \u001b[0mdic\u001b[0m\u001b[0;34m.\u001b[0m\u001b[0mlst\u001b[0m\u001b[0;34m[\u001b[0m\u001b[0;36m1\u001b[0m\u001b[0;34m]\u001b[0m\u001b[0;34m.\u001b[0m\u001b[0msplit\u001b[0m\u001b[0;34m(\u001b[0m\u001b[0;34m','\u001b[0m\u001b[0;34m)\u001b[0m\u001b[0;34m.\u001b[0m\u001b[0mupdate\u001b[0m\u001b[0;34m(\u001b[0m\u001b[0;34m{\u001b[0m\u001b[0mattribute\u001b[0m\u001b[0;34m:\u001b[0m\u001b[0mvalue\u001b[0m\u001b[0;34m}\u001b[0m\u001b[0;34m)\u001b[0m\u001b[0;34m\u001b[0m\u001b[0;34m\u001b[0m\u001b[0m\n\u001b[0m",
      "\u001b[0;31mAttributeError\u001b[0m: 'dict' object has no attribute 'lst'"
     ]
    }
   ],
   "source": [
    "dic={}\n",
    "dic.lst[1].split(',').update({attribute:value})"
   ]
  },
  {
   "cell_type": "code",
   "execution_count": 20,
   "metadata": {},
   "outputs": [],
   "source": [
    "import ast "
   ]
  },
  {
   "cell_type": "code",
   "execution_count": 21,
   "metadata": {},
   "outputs": [
    {
     "ename": "ValueError",
     "evalue": "malformed node or string: <_ast.Name object at 0x106f774e0>",
     "output_type": "error",
     "traceback": [
      "\u001b[0;31m---------------------------------------------------------------------------\u001b[0m",
      "\u001b[0;31mValueError\u001b[0m                                Traceback (most recent call last)",
      "\u001b[0;32m<ipython-input-21-1010a29e3337>\u001b[0m in \u001b[0;36m<module>\u001b[0;34m\u001b[0m\n\u001b[0;32m----> 1\u001b[0;31m \u001b[0mast\u001b[0m\u001b[0;34m.\u001b[0m\u001b[0mliteral_eval\u001b[0m\u001b[0;34m(\u001b[0m\u001b[0mstr\u001b[0m\u001b[0;34m)\u001b[0m\u001b[0;34m\u001b[0m\u001b[0;34m\u001b[0m\u001b[0m\n\u001b[0m",
      "\u001b[0;32m/anaconda3/lib/python3.7/ast.py\u001b[0m in \u001b[0;36mliteral_eval\u001b[0;34m(node_or_string)\u001b[0m\n\u001b[1;32m     89\u001b[0m                     \u001b[0;32mreturn\u001b[0m \u001b[0mleft\u001b[0m \u001b[0;34m-\u001b[0m \u001b[0mright\u001b[0m\u001b[0;34m\u001b[0m\u001b[0;34m\u001b[0m\u001b[0m\n\u001b[1;32m     90\u001b[0m         \u001b[0;32mreturn\u001b[0m \u001b[0m_convert_signed_num\u001b[0m\u001b[0;34m(\u001b[0m\u001b[0mnode\u001b[0m\u001b[0;34m)\u001b[0m\u001b[0;34m\u001b[0m\u001b[0;34m\u001b[0m\u001b[0m\n\u001b[0;32m---> 91\u001b[0;31m     \u001b[0;32mreturn\u001b[0m \u001b[0m_convert\u001b[0m\u001b[0;34m(\u001b[0m\u001b[0mnode_or_string\u001b[0m\u001b[0;34m)\u001b[0m\u001b[0;34m\u001b[0m\u001b[0;34m\u001b[0m\u001b[0m\n\u001b[0m\u001b[1;32m     92\u001b[0m \u001b[0;34m\u001b[0m\u001b[0m\n\u001b[1;32m     93\u001b[0m \u001b[0;34m\u001b[0m\u001b[0m\n",
      "\u001b[0;32m/anaconda3/lib/python3.7/ast.py\u001b[0m in \u001b[0;36m_convert\u001b[0;34m(node)\u001b[0m\n\u001b[1;32m     77\u001b[0m         \u001b[0;32melif\u001b[0m \u001b[0misinstance\u001b[0m\u001b[0;34m(\u001b[0m\u001b[0mnode\u001b[0m\u001b[0;34m,\u001b[0m \u001b[0mDict\u001b[0m\u001b[0;34m)\u001b[0m\u001b[0;34m:\u001b[0m\u001b[0;34m\u001b[0m\u001b[0;34m\u001b[0m\u001b[0m\n\u001b[1;32m     78\u001b[0m             return dict(zip(map(_convert, node.keys),\n\u001b[0;32m---> 79\u001b[0;31m                             map(_convert, node.values)))\n\u001b[0m\u001b[1;32m     80\u001b[0m         \u001b[0;32melif\u001b[0m \u001b[0misinstance\u001b[0m\u001b[0;34m(\u001b[0m\u001b[0mnode\u001b[0m\u001b[0;34m,\u001b[0m \u001b[0mNameConstant\u001b[0m\u001b[0;34m)\u001b[0m\u001b[0;34m:\u001b[0m\u001b[0;34m\u001b[0m\u001b[0;34m\u001b[0m\u001b[0m\n\u001b[1;32m     81\u001b[0m             \u001b[0;32mreturn\u001b[0m \u001b[0mnode\u001b[0m\u001b[0;34m.\u001b[0m\u001b[0mvalue\u001b[0m\u001b[0;34m\u001b[0m\u001b[0;34m\u001b[0m\u001b[0m\n",
      "\u001b[0;32m/anaconda3/lib/python3.7/ast.py\u001b[0m in \u001b[0;36m_convert\u001b[0;34m(node)\u001b[0m\n\u001b[1;32m     72\u001b[0m             \u001b[0;32mreturn\u001b[0m \u001b[0mtuple\u001b[0m\u001b[0;34m(\u001b[0m\u001b[0mmap\u001b[0m\u001b[0;34m(\u001b[0m\u001b[0m_convert\u001b[0m\u001b[0;34m,\u001b[0m \u001b[0mnode\u001b[0m\u001b[0;34m.\u001b[0m\u001b[0melts\u001b[0m\u001b[0;34m)\u001b[0m\u001b[0;34m)\u001b[0m\u001b[0;34m\u001b[0m\u001b[0;34m\u001b[0m\u001b[0m\n\u001b[1;32m     73\u001b[0m         \u001b[0;32melif\u001b[0m \u001b[0misinstance\u001b[0m\u001b[0;34m(\u001b[0m\u001b[0mnode\u001b[0m\u001b[0;34m,\u001b[0m \u001b[0mList\u001b[0m\u001b[0;34m)\u001b[0m\u001b[0;34m:\u001b[0m\u001b[0;34m\u001b[0m\u001b[0;34m\u001b[0m\u001b[0m\n\u001b[0;32m---> 74\u001b[0;31m             \u001b[0;32mreturn\u001b[0m \u001b[0mlist\u001b[0m\u001b[0;34m(\u001b[0m\u001b[0mmap\u001b[0m\u001b[0;34m(\u001b[0m\u001b[0m_convert\u001b[0m\u001b[0;34m,\u001b[0m \u001b[0mnode\u001b[0m\u001b[0;34m.\u001b[0m\u001b[0melts\u001b[0m\u001b[0;34m)\u001b[0m\u001b[0;34m)\u001b[0m\u001b[0;34m\u001b[0m\u001b[0;34m\u001b[0m\u001b[0m\n\u001b[0m\u001b[1;32m     75\u001b[0m         \u001b[0;32melif\u001b[0m \u001b[0misinstance\u001b[0m\u001b[0;34m(\u001b[0m\u001b[0mnode\u001b[0m\u001b[0;34m,\u001b[0m \u001b[0mSet\u001b[0m\u001b[0;34m)\u001b[0m\u001b[0;34m:\u001b[0m\u001b[0;34m\u001b[0m\u001b[0;34m\u001b[0m\u001b[0m\n\u001b[1;32m     76\u001b[0m             \u001b[0;32mreturn\u001b[0m \u001b[0mset\u001b[0m\u001b[0;34m(\u001b[0m\u001b[0mmap\u001b[0m\u001b[0;34m(\u001b[0m\u001b[0m_convert\u001b[0m\u001b[0;34m,\u001b[0m \u001b[0mnode\u001b[0m\u001b[0;34m.\u001b[0m\u001b[0melts\u001b[0m\u001b[0;34m)\u001b[0m\u001b[0;34m)\u001b[0m\u001b[0;34m\u001b[0m\u001b[0;34m\u001b[0m\u001b[0m\n",
      "\u001b[0;32m/anaconda3/lib/python3.7/ast.py\u001b[0m in \u001b[0;36m_convert\u001b[0;34m(node)\u001b[0m\n\u001b[1;32m     77\u001b[0m         \u001b[0;32melif\u001b[0m \u001b[0misinstance\u001b[0m\u001b[0;34m(\u001b[0m\u001b[0mnode\u001b[0m\u001b[0;34m,\u001b[0m \u001b[0mDict\u001b[0m\u001b[0;34m)\u001b[0m\u001b[0;34m:\u001b[0m\u001b[0;34m\u001b[0m\u001b[0;34m\u001b[0m\u001b[0m\n\u001b[1;32m     78\u001b[0m             return dict(zip(map(_convert, node.keys),\n\u001b[0;32m---> 79\u001b[0;31m                             map(_convert, node.values)))\n\u001b[0m\u001b[1;32m     80\u001b[0m         \u001b[0;32melif\u001b[0m \u001b[0misinstance\u001b[0m\u001b[0;34m(\u001b[0m\u001b[0mnode\u001b[0m\u001b[0;34m,\u001b[0m \u001b[0mNameConstant\u001b[0m\u001b[0;34m)\u001b[0m\u001b[0;34m:\u001b[0m\u001b[0;34m\u001b[0m\u001b[0;34m\u001b[0m\u001b[0m\n\u001b[1;32m     81\u001b[0m             \u001b[0;32mreturn\u001b[0m \u001b[0mnode\u001b[0m\u001b[0;34m.\u001b[0m\u001b[0mvalue\u001b[0m\u001b[0;34m\u001b[0m\u001b[0;34m\u001b[0m\u001b[0m\n",
      "\u001b[0;32m/anaconda3/lib/python3.7/ast.py\u001b[0m in \u001b[0;36m_convert\u001b[0;34m(node)\u001b[0m\n\u001b[1;32m     88\u001b[0m                 \u001b[0;32melse\u001b[0m\u001b[0;34m:\u001b[0m\u001b[0;34m\u001b[0m\u001b[0;34m\u001b[0m\u001b[0m\n\u001b[1;32m     89\u001b[0m                     \u001b[0;32mreturn\u001b[0m \u001b[0mleft\u001b[0m \u001b[0;34m-\u001b[0m \u001b[0mright\u001b[0m\u001b[0;34m\u001b[0m\u001b[0;34m\u001b[0m\u001b[0m\n\u001b[0;32m---> 90\u001b[0;31m         \u001b[0;32mreturn\u001b[0m \u001b[0m_convert_signed_num\u001b[0m\u001b[0;34m(\u001b[0m\u001b[0mnode\u001b[0m\u001b[0;34m)\u001b[0m\u001b[0;34m\u001b[0m\u001b[0;34m\u001b[0m\u001b[0m\n\u001b[0m\u001b[1;32m     91\u001b[0m     \u001b[0;32mreturn\u001b[0m \u001b[0m_convert\u001b[0m\u001b[0;34m(\u001b[0m\u001b[0mnode_or_string\u001b[0m\u001b[0;34m)\u001b[0m\u001b[0;34m\u001b[0m\u001b[0;34m\u001b[0m\u001b[0m\n\u001b[1;32m     92\u001b[0m \u001b[0;34m\u001b[0m\u001b[0m\n",
      "\u001b[0;32m/anaconda3/lib/python3.7/ast.py\u001b[0m in \u001b[0;36m_convert_signed_num\u001b[0;34m(node)\u001b[0m\n\u001b[1;32m     61\u001b[0m             \u001b[0;32melse\u001b[0m\u001b[0;34m:\u001b[0m\u001b[0;34m\u001b[0m\u001b[0;34m\u001b[0m\u001b[0m\n\u001b[1;32m     62\u001b[0m                 \u001b[0;32mreturn\u001b[0m \u001b[0;34m-\u001b[0m \u001b[0moperand\u001b[0m\u001b[0;34m\u001b[0m\u001b[0;34m\u001b[0m\u001b[0m\n\u001b[0;32m---> 63\u001b[0;31m         \u001b[0;32mreturn\u001b[0m \u001b[0m_convert_num\u001b[0m\u001b[0;34m(\u001b[0m\u001b[0mnode\u001b[0m\u001b[0;34m)\u001b[0m\u001b[0;34m\u001b[0m\u001b[0;34m\u001b[0m\u001b[0m\n\u001b[0m\u001b[1;32m     64\u001b[0m     \u001b[0;32mdef\u001b[0m \u001b[0m_convert\u001b[0m\u001b[0;34m(\u001b[0m\u001b[0mnode\u001b[0m\u001b[0;34m)\u001b[0m\u001b[0;34m:\u001b[0m\u001b[0;34m\u001b[0m\u001b[0;34m\u001b[0m\u001b[0m\n\u001b[1;32m     65\u001b[0m         \u001b[0;32mif\u001b[0m \u001b[0misinstance\u001b[0m\u001b[0;34m(\u001b[0m\u001b[0mnode\u001b[0m\u001b[0;34m,\u001b[0m \u001b[0mConstant\u001b[0m\u001b[0;34m)\u001b[0m\u001b[0;34m:\u001b[0m\u001b[0;34m\u001b[0m\u001b[0;34m\u001b[0m\u001b[0m\n",
      "\u001b[0;32m/anaconda3/lib/python3.7/ast.py\u001b[0m in \u001b[0;36m_convert_num\u001b[0;34m(node)\u001b[0m\n\u001b[1;32m     53\u001b[0m         \u001b[0;32melif\u001b[0m \u001b[0misinstance\u001b[0m\u001b[0;34m(\u001b[0m\u001b[0mnode\u001b[0m\u001b[0;34m,\u001b[0m \u001b[0mNum\u001b[0m\u001b[0;34m)\u001b[0m\u001b[0;34m:\u001b[0m\u001b[0;34m\u001b[0m\u001b[0;34m\u001b[0m\u001b[0m\n\u001b[1;32m     54\u001b[0m             \u001b[0;32mreturn\u001b[0m \u001b[0mnode\u001b[0m\u001b[0;34m.\u001b[0m\u001b[0mn\u001b[0m\u001b[0;34m\u001b[0m\u001b[0;34m\u001b[0m\u001b[0m\n\u001b[0;32m---> 55\u001b[0;31m         \u001b[0;32mraise\u001b[0m \u001b[0mValueError\u001b[0m\u001b[0;34m(\u001b[0m\u001b[0;34m'malformed node or string: '\u001b[0m \u001b[0;34m+\u001b[0m \u001b[0mrepr\u001b[0m\u001b[0;34m(\u001b[0m\u001b[0mnode\u001b[0m\u001b[0;34m)\u001b[0m\u001b[0;34m)\u001b[0m\u001b[0;34m\u001b[0m\u001b[0;34m\u001b[0m\u001b[0m\n\u001b[0m\u001b[1;32m     56\u001b[0m     \u001b[0;32mdef\u001b[0m \u001b[0m_convert_signed_num\u001b[0m\u001b[0;34m(\u001b[0m\u001b[0mnode\u001b[0m\u001b[0;34m)\u001b[0m\u001b[0;34m:\u001b[0m\u001b[0;34m\u001b[0m\u001b[0;34m\u001b[0m\u001b[0m\n\u001b[1;32m     57\u001b[0m         \u001b[0;32mif\u001b[0m \u001b[0misinstance\u001b[0m\u001b[0;34m(\u001b[0m\u001b[0mnode\u001b[0m\u001b[0;34m,\u001b[0m \u001b[0mUnaryOp\u001b[0m\u001b[0;34m)\u001b[0m \u001b[0;32mand\u001b[0m \u001b[0misinstance\u001b[0m\u001b[0;34m(\u001b[0m\u001b[0mnode\u001b[0m\u001b[0;34m.\u001b[0m\u001b[0mop\u001b[0m\u001b[0;34m,\u001b[0m \u001b[0;34m(\u001b[0m\u001b[0mUAdd\u001b[0m\u001b[0;34m,\u001b[0m \u001b[0mUSub\u001b[0m\u001b[0;34m)\u001b[0m\u001b[0;34m)\u001b[0m\u001b[0;34m:\u001b[0m\u001b[0;34m\u001b[0m\u001b[0;34m\u001b[0m\u001b[0m\n",
      "\u001b[0;31mValueError\u001b[0m: malformed node or string: <_ast.Name object at 0x106f774e0>"
     ]
    }
   ],
   "source": [
    "ast.literal_eval(str)"
   ]
  },
  {
   "cell_type": "code",
   "execution_count": 23,
   "metadata": {},
   "outputs": [
    {
     "data": {
      "text/plain": [
       "'{\"geoId\":297628,\"hotels\":[{\"entityType\":\"hotel\",\"id\":653907,\"name\":\"Casa Cottage\",\"detailUrl\":\"/Hotel_Review-g297628-d653907-Reviews-Casa_Cottage-Bengaluru_Bangalore_District_Karnataka.html\",\"numReviews\":508,\"bubbleRating\":45,\"geoPoint\":{\"latitude\":12.964365005493164,\"longitude\":77.6042251586914},\"thumbnail\":null,\"popIndexText\":\"#81 of 1,095 Bengaluru hotels\",\"accommodationCategory\":null,\"offers\":[],\"sponsoredListing\":null,\"listingKey\":\"2b7fbc2a-3c29-4655-8a9d-6b80ff272ee0\"},{\"entityType\":\"hotel\",\"id\":1585538,\"name\":\"Maple Suites, Serviced Residences\",\"detailUrl\":\"/Hotel_Review-g297628-d1585538-Reviews-Maple_Suites_Serviced_Residences-Bengaluru_Bangalore_District_Karnataka.html\",\"numReviews\":179,\"bubbleRating\":45,\"geoPoint\":{\"latitude\":12.905165672302246,\"longitude\":77.60383605957031},\"thumbnail\":null,\"popIndexText\":\"#80 of 1,095 Bengaluru hotels\",\"accommodationCategory\":null,\"offers\":[],\"sponsoredListing\":null,\"listingKey\":\"766b52bb-8635-4d5c-9343-06bdcb721dac\"},{\"entityType\":\"hotel\",\"id\":1015286,\"name\":\"Fortune Select Trinity\",\"detailUrl\":\"/Hotel_Review-g297628-d1015286-Reviews-Fortune_Select_Trinity-Bengaluru_Bangalore_District_Karnataka.html\",\"numReviews\":569,\"bubbleRating\":40,\"geoPoint\":{\"latitude\":12.977380752563477,\"longitude\":77.71446228027344},\"thumbnail\":null,\"popIndexText\":\"#98 of 1,095 Bengaluru hotels\",\"accommodationCategory\":null,\"offers\":[],\"sponsoredListing\":null,\"listingKey\":\"ed3d81cd-bc04-45a7-9d27-d75d55eee47e\"},{\"entityType\":\"hotel\",\"id\":6781827,\"name\":\"Ibis Bengaluru City Centre Hotel\",\"detailUrl\":\"/Hotel_Review-g297628-d6781827-Reviews-Ibis_Bengaluru_City_Centre_Hotel-Bengaluru_Bangalore_District_Karnataka.html\",\"numReviews\":963,\"bubbleRating\":45,\"geoPoint\":{\"latitude\":12.967448234558105,\"longitude\":77.59390258789062},\"thumbnail\":null,\"popIndexText\":\"#65 of 1,095 Bengaluru hotels\",\"accommodationCategory\":null,\"offers\":[],\"sponsoredListing\":null,\"listingKey\":\"845f6aad-2fa5-4b30-a7bc-8d3b81b96a8e\"},{\"entityType\":\"hotel\",\"id\":9725494,\"name\":\"Tulip Inn Bangalore\",\"detailUrl\":\"/Hotel_Review-g297628-d9725494-Reviews-Tulip_Inn_Bangalore-Bengaluru_Bangalore_District_Karnataka.html\",\"numReviews\":144,\"bubbleRating\":45,\"geoPoint\":{\"latitude\":12.999216079711914,\"longitude\":77.5836410522461},\"thumbnail\":null,\"popIndexText\":\"#107 of 1,095 Bengaluru hotels\",\"accommodationCategory\":null,\"offers\":[],\"sponsoredListing\":null,\"listingKey\":\"55f78280-3e59-4edc-b7f1-7af669ff3ef8\"},{\"entityType\":\"hotel\",\"id\":4508843,\"name\":\"Ramada Encore by Wyndham Bangalore Domlur\",\"detailUrl\":\"/Hotel_Review-g297628-d4508843-Reviews-Ramada_Encore_by_Wyndham_Bangalore_Domlur-Bengaluru_Bangalore_District_Karnataka.html\",\"numReviews\":659,\"bubbleRating\":45,\"geoPoint\":{\"latitude\":12.955479621887207,\"longitude\":77.64114379882812},\"thumbnail\":null,\"popIndexText\":\"#67 of 1,095 Bengaluru hotels\",\"accommodationCategory\":null,\"offers\":[],\"sponsoredListing\":null,\"listingKey\":\"7b1af87c-3b7c-45ab-b494-390f6397d340\"},{\"entityType\":\"hotel\",\"id\":1993170,\"name\":\"Villa Camelot\",\"detailUrl\":\"/Hotel_Review-g297628-d1993170-Reviews-Villa_Camelot-Bengaluru_Bangalore_District_Karnataka.html\",\"numReviews\":79,\"bubbleRating\":50,\"geoPoint\":{\"latitude\":13.014559745788574,\"longitude\":77.63802337646484},\"thumbnail\":null,\"popIndexText\":\"#7 of 681 Bengaluru B&amp;B and Inns\",\"accommodationCategory\":\"Bed and Breakfast\",\"offers\":[],\"sponsoredListing\":null,\"listingKey\":\"54cc9039-0137-44f4-a46d-c5a69b5caed4\"},{\"entityType\":\"hotel\",\"id\":582092,\"name\":\"Treebo Tryst Monarch\",\"detailUrl\":\"/Hotel_Review-g297628-d582092-Reviews-Treebo_Tryst_Monarch-Bengaluru_Bangalore_District_Karnataka.html\",\"numReviews\":481,\"bubbleRating\":45,\"geoPoint\":{\"latitude\":12.974054336547852,\"longitude\":77.60768127441406},\"thumbnail\":null,\"popIndexText\":\"#59 of 1,095 Bengaluru hotels\",\"accommodationCategory\":null,\"offers\":[],\"sponsoredListing\":null,\"listingKey\":\"ab0b0f74-3444-4b7a-8f0e-1c379613d82a\"},{\"entityType\":\"hotel\",\"id\":735365,\"name\":\"The Monarch Luxur\",\"detailUrl\":\"/Hotel_Review-g297628-d735365-Reviews-The_Monarch_Luxur-Bengaluru_Bangalore_District_Karnataka.html\",\"numReviews\":1468,\"bubbleRating\":45,\"geoPoint\":{\"latitude\":12.980278015136719,\"longitude\":77.60506439208984},\"thumbnail\":null,\"popIndexText\":\"#10 of 1,095 Bengaluru hotels\",\"accommodationCategory\":null,\"offers\":[],\"sponsoredListing\":null,\"listingKey\":\"fa9c18e4-892d-44e6-a1f1-2194088cbb7e\"},{\"entityType\":\"hotel\",\"id\":2443500,\"name\":\"Citrus Bangalore\",\"detailUrl\":\"/Hotel_Review-g297628-d2443500-Reviews-Citrus_Bangalore-Bengaluru_Bangalore_District_Karnataka.html\",\"numReviews\":468,\"bubbleRating\":45,\"geoPoint\":{\"latitude\":12.92326545715332,\"longitude\":77.6715316772461},\"thumbnail\":null,\"popIndexText\":\"#58 of 1,095 Bengaluru hotels\",\"accommodationCategory\":null,\"offers\":[],\"sponsoredListing\":null,\"listingKey\":\"228745e8-cf5c-43c3-9c3e-01bcd2d240a1\"},{\"entityType\":\"hotel\",\"id\":301635,\"name\":\"The Park Bangalore\",\"detailUrl\":\"/Hotel_Review-g297628-d301635-Reviews-The_Park_Bangalore-Bengaluru_Bangalore_District_Karnataka.html\",\"numReviews\":1704,\"bubbleRating\":40,\"geoPoint\":{\"latitude\":12.97400188446045,\"longitude\":77.6198501586914},\"thumbnail\":null,\"popIndexText\":\"#91 of 1,095 Bengaluru hotels\",\"accommodationCategory\":null,\"offers\":[],\"sponsoredListing\":null,\"listingKey\":\"8a105039-cc89-4ab8-9b60-043598269fb0\"},{\"entityType\":\"hotel\",\"id\":1400050,\"name\":\"JP Cordial\",\"detailUrl\":\"/Hotel_Review-g297628-d1400050-Reviews-JP_Cordial-Bengaluru_Bangalore_District_Karnataka.html\",\"numReviews\":260,\"bubbleRating\":45,\"geoPoint\":{\"latitude\":12.979227066040039,\"longitude\":77.57466888427734},\"thumbnail\":null,\"popIndexText\":\"#97 of 1,095 Bengaluru hotels\",\"accommodationCategory\":null,\"offers\":[],\"sponsoredListing\":null,\"listingKey\":\"d9a2413e-b536-48fc-92b8-b8af33b3ae89\"},{\"entityType\":\"hotel\",\"id\":503249,\"name\":\"Royal Orchid Central\",\"detailUrl\":\"/Hotel_Review-g297628-d503249-Reviews-Royal_Orchid_Central-Bengaluru_Bangalore_District_Karnataka.html\",\"numReviews\":1428,\"bubbleRating\":40,\"geoPoint\":{\"latitude\":12.975137710571289,\"longitude\":77.6153335571289},\"thumbnail\":null,\"popIndexText\":\"#62 of 1,095 Bengaluru hotels\",\"accommodationCategory\":null,\"offers\":[],\"sponsoredListing\":null,\"listingKey\":\"d8a72db7-c826-4f23-a7c7-604a33d781bb\"},{\"entityType\":\"hotel\",\"id\":14943807,\"name\":\"Radisson Bengaluru City Center\",\"detailUrl\":\"/Hotel_Review-g297628-d14943807-Reviews-Radisson_Bengaluru_City_Center-Bengaluru_Bangalore_District_Karnataka.html\",\"numReviews\":195,\"bubbleRating\":45,\"geoPoint\":{\"latitude\":12.976365089416504,\"longitude\":77.61955261230469},\"thumbnail\":null,\"popIndexText\":\"#45 of 1,095 Bengaluru hotels\",\"accommodationCategory\":null,\"offers\":[],\"sponsoredListing\":null,\"listingKey\":\"6c4e8c08-35e0-4150-adc9-5b2695cbedfb\"},{\"entityType\":\"hotel\",\"id\":6164380,\"name\":\"Golden Tulip Bangalore Electronics City\",\"detailUrl\":\"/Hotel_Review-g297628-d6164380-Reviews-Golden_Tulip_Bangalore_Electronics_City-Bengaluru_Bangalore_District_Karnataka.html\",\"numReviews\":226,\"bubbleRating\":40,\"geoPoint\":{\"latitude\":12.840134620666504,\"longitude\":77.65962219238281},\"thumbnail\":null,\"popIndexText\":\"#100 of 1,095 Bengaluru hotels\",\"accommodationCategory\":null,\"offers\":[],\"sponsoredListing\":null,\"listingKey\":\"3cceac10-9868-499a-91b1-3ae01c9fb19d\"},{\"entityType\":\"hotel\",\"id\":1870847,\"name\":\"Miraya Hotel Whitefield Bengaluru\",\"detailUrl\":\"/Hotel_Review-g297628-d1870847-Reviews-Miraya_Hotel_Whitefield_Bengaluru-Bengaluru_Bangalore_District_Karnataka.html\",\"numReviews\":723,\"bubbleRating\":45,\"geoPoint\":{\"latitude\":12.956480026245117,\"longitude\":77.7342529296875},\"thumbnail\":null,\"popIndexText\":\"#93 of 1,095 Bengaluru hotels\",\"accommodationCategory\":null,\"offers\":[],\"sponsoredListing\":null,\"listingKey\":\"4940a13e-e8e6-463d-bdb3-2a9617d18190\"},{\"entityType\":\"hotel\",\"id\":11998072,\"name\":\"Radisson Blu Atria Bengaluru\",\"detailUrl\":\"/Hotel_Review-g297628-d11998072-Reviews-Radisson_Blu_Atria_Bengaluru-Bengaluru_Bangalore_District_Karnataka.html\",\"numReviews\":642,\"bubbleRating\":45,\"geoPoint\":{\"latitude\":12.979873657226562,\"longitude\":77.58627319335938},\"thumbnail\":null,\"popIndexText\":\"#74 of 1,095 Bengaluru hotels\",\"accommodationCategory\":null,\"offers\":[],\"sponsoredListing\":null,\"listingKey\":\"dc0c12ef-759e-415b-8f45-39556b791d35\"},{\"entityType\":\"hotel\",\"id\":678020,\"name\":\"The Elanza Hotel\",\"detailUrl\":\"/Hotel_Review-g297628-d678020-Reviews-The_Elanza_Hotel-Bengaluru_Bangalore_District_Karnataka.html\",\"numReviews\":686,\"bubbleRating\":45,\"geoPoint\":{\"latitude\":12.965376853942871,\"longitude\":77.60201263427734},\"thumbnail\":null,\"popIndexText\":\"#96 of 1,095 Bengaluru hotels\",\"accommodationCategory\":null,\"offers\":[],\"sponsoredListing\":null,\"listingKey\":\"c89f9721-b326-44cd-be57-7424cd7497a5\"},{\"entityType\":\"hotel\",\"id\":1437795,\"name\":\"The Citadel Hotel\",\"detailUrl\":\"/Hotel_Review-g297628-d1437795-Reviews-The_Citadel_Hotel-Bengaluru_Bangalore_District_Karnataka.html\",\"numReviews\":376,\"bubbleRating\":40,\"geoPoint\":{\"latitude\":12.98080062866211,\"longitude\":77.57538604736328},\"thumbnail\":null,\"popIndexText\":\"#99 of 1,095 Bengaluru hotels\",\"accommodationCategory\":null,\"offers\":[],\"sponsoredListing\":null,\"listingKey\":\"9a6a1ecb-9db9-4706-9717-531e40b48e98\"},{\"entityType\":\"hotel\",\"id\":8587934,\"name\":\"Shangri-La Hotel Bengaluru\",\"detailUrl\":\"/Hotel_Review-g297628-d8587934-Reviews-Shangri_La_Hotel_Bengaluru-Bengaluru_Bangalore_District_Karnataka.html\",\"numReviews\":1257,\"bubbleRating\":45,\"geoPoint\":{\"latitude\":12.992254257202148,\"longitude\":77.58837890625},\"thumbnail\":null,\"popIndexText\":\"#28 of 1,095 Bengaluru hotels\",\"accommodationCategory\":null,\"offers\":[],\"sponsoredListing\":null,\"listingKey\":\"4c8473c8-5bd5-4b1a-96b9-379857b7d3af\"},{\"entityType\":\"hotel\",\"id\":1023579,\"name\":\"Laika Boutique Stay\",\"detailUrl\":\"/Hotel_Review-g297628-d1023579-Reviews-Laika_Boutique_Stay-Bengaluru_Bangalore_District_Karnataka.html\",\"numReviews\":314,\"bubbleRating\":50,\"geoPoint\":{\"latitude\":12.97041130065918,\"longitude\":77.6168212890625},\"thumbnail\":null,\"popIndexText\":\"#3 of 681 Bengaluru B&amp;B and Inns\",\"accommodationCategory\":\"Small Hotel\",\"offers\":[],\"sponsoredListing\":null,\"listingKey\":\"1f37abf3-0ffe-4f70-a7be-3071310052e9\"},{\"entityType\":\"hotel\",\"id\":3721806,\"name\":\"Holiday Inn Express Bengaluru Whitefield ITPL\",\"detailUrl\":\"/Hotel_Review-g297628-d3721806-Reviews-Holiday_Inn_Express_Bengaluru_Whitefield_ITPL-Bengaluru_Bangalore_District_Karnataka.html\",\"numReviews\":98,\"bubbleRating\":45,\"geoPoint\":{\"latitude\":12.98654842376709,\"longitude\":77.73271942138672},\"thumbnail\":null,\"popIndexText\":\"#87 of 1,095 Bengaluru hotels\",\"accommodationCategory\":null,\"offers\":[],\"sponsoredListing\":null,\"listingKey\":\"42d21e46-c4a9-4bcc-9f7f-81cd1f8af070\"},{\"entityType\":\"hotel\",\"id\":546040,\"name\":\"Hotel Swagath\",\"detailUrl\":\"/Hotel_Review-g297628-d546040-Reviews-Hotel_Swagath-Bengaluru_Bangalore_District_Karnataka.html\",\"numReviews\":442,\"bubbleRating\":45,\"geoPoint\":{\"latitude\":12.973770141601562,\"longitude\":77.57577514648438},\"thumbnail\":null,\"popIndexText\":\"#31 of 1,095 Bengaluru hotels\",\"accommodationCategory\":null,\"offers\":[],\"sponsoredListing\":null,\"listingKey\":\"5ff80a36-9887-4736-a5bd-786d90cc4f5b\"},{\"entityType\":\"hotel\",\"id\":1797807,\"name\":\"Svenska Design Hotel\",\"detailUrl\":\"/Hotel_Review-g297628-d1797807-Reviews-Svenska_Design_Hotel-Bengaluru_Bangalore_District_Karnataka.html\",\"numReviews\":461,\"bubbleRating\":45,\"geoPoint\":{\"latitude\":12.839326858520508,\"longitude\":77.6592025756836},\"thumbnail\":null,\"popIndexText\":\"#92 of 1,095 Bengaluru hotels\",\"accommodationCategory\":null,\"offers\":[],\"sponsoredListing\":null,\"listingKey\":\"f920a6fb-4942-4a75-9b69-8b7c813a625d\"},{\"entityType\":\"hotel\",\"id\":6592156,\"name\":\"Citrus Cunningham\",\"detailUrl\":\"/Hotel_Review-g297628-d6592156-Reviews-Citrus_Cunningham-Bengaluru_Bangalore_District_Karnataka.html\",\"numReviews\":415,\"bubbleRating\":45,\"geoPoint\":{\"latitude\":12.98610782623291,\"longitude\":77.595458984375},\"thumbnail\":null,\"popIndexText\":\"#63 of 1,095 Bengaluru hotels\",\"accommodationCategory\":null,\"offers\":[],\"sponsoredListing\":null,\"listingKey\":\"40954a55-6de8-4e8a-bd47-4d0bec8dfbdd\"},{\"entityType\":\"hotel\",\"id\":1471779,\"name\":\"Fortune Park JP Celestial\",\"detailUrl\":\"/Hotel_Review-g297628-d1471779-Reviews-Fortune_Park_JP_Celestial-Bengaluru_Bangalore_District_Karnataka.html\",\"numReviews\":652,\"bubbleRating\":40,\"geoPoint\":{\"latitude\":12.980853080749512,\"longitude\":77.57589721679688},\"thumbnail\":null,\"popIndexText\":\"#105 of 1,095 Bengaluru hotels\",\"accommodationCategory\":null,\"offers\":[],\"sponsoredListing\":null,\"listingKey\":\"f0d28fb3-3a4a-4d3d-af83-dcd9ff6d5a91\"},{\"entityType\":\"hotel\",\"id\":12825343,\"name\":\"Zone by the Park Electronic City Bengaluru\",\"detailUrl\":\"/Hotel_Review-g297628-d12825343-Reviews-Zone_by_the_Park_Electronic_City_Bengaluru-Bengaluru_Bangalore_District_Karnataka.html\",\"numReviews\":162,\"bubbleRating\":45,\"geoPoint\":{\"latitude\":12.84522533416748,\"longitude\":77.66527557373047},\"thumbnail\":null,\"popIndexText\":\"#95 of 1,095 Bengaluru hotels\",\"accommodationCategory\":null,\"offers\":[],\"sponsoredListing\":null,\"listingKey\":\"8d69153c-a520-4956-8769-0d9009f23e6f\"},{\"entityType\":\"hotel\",\"id\":602617,\"name\":\"Palm Meadows Club\",\"detailUrl\":\"/Hotel_Review-g297628-d602617-Reviews-Palm_Meadows_Club-Bengaluru_Bangalore_District_Karnataka.html\",\"numReviews\":295,\"bubbleRating\":40,\"geoPoint\":{\"latitude\":12.964052200317383,\"longitude\":77.73954772949219},\"thumbnail\":null,\"popIndexText\":\"#102 of 1,095 Bengaluru hotels\",\"accommodationCategory\":null,\"offers\":[],\"sponsoredListing\":null,\"listingKey\":\"fcde0cd5-de95-46a9-8308-40df08426057\"},{\"entityType\":\"hotel\",\"id\":3842161,\"name\":\"Springs Hotel & Spa\",\"detailUrl\":\"/Hotel_Review-g297628-d3842161-Reviews-Springs_Hotel_Spa-Bengaluru_Bangalore_District_Karnataka.html\",\"numReviews\":285,\"bubbleRating\":40,\"geoPoint\":{\"latitude\":12.956613540649414,\"longitude\":77.5835189819336},\"thumbnail\":null,\"popIndexText\":\"#103 of 1,095 Bengaluru hotels\",\"accommodationCategory\":null,\"offers\":[],\"sponsoredListing\":null,\"listingKey\":\"a2f8ce95-61a5-4d2c-9dcd-7c6b58649477\"},{\"entityType\":\"hotel\",\"id\":8874013,\"name\":\"Silverstar Hotel\",\"detailUrl\":\"/Hotel_Review-g297628-d8874013-Reviews-Silverstar_Hotel-Bengaluru_Bangalore_District_Karnataka.html\",\"numReviews\":303,\"bubbleRating\":40,\"geoPoint\":{\"latitude\":12.979161262512207,\"longitude\":77.57909393310547},\"thumbnail\":null,\"popIndexText\":\"#101 of 1,095 Bengaluru hotels\",\"accommodationCategory\":null,\"offers\":[],\"sponsoredListing\":null,\"listingKey\":\"f662bffd-1504-4a72-8c42-12feadff7fe5\"}],\"anchorPins\":[],\"hacStatus\":null,\"requestNumber\":1,\"paging\":{\"currentPage\":1,\"numberPages\":92,\"pageSize\":30,\"totalItems\":2751,\"pageOffset\":0},\"selectedLocation\":null}'"
      ]
     },
     "execution_count": 23,
     "metadata": {},
     "output_type": "execute_result"
    }
   ],
   "source": [
    "str"
   ]
  },
  {
   "cell_type": "code",
   "execution_count": 24,
   "metadata": {},
   "outputs": [],
   "source": [
    "import json"
   ]
  },
  {
   "cell_type": "code",
   "execution_count": 26,
   "metadata": {},
   "outputs": [],
   "source": [
    "js = json.loads(str)"
   ]
  },
  {
   "cell_type": "code",
   "execution_count": 27,
   "metadata": {},
   "outputs": [
    {
     "data": {
      "text/plain": [
       "dict_keys(['geoId', 'hotels', 'anchorPins', 'hacStatus', 'requestNumber', 'paging', 'selectedLocation'])"
      ]
     },
     "execution_count": 27,
     "metadata": {},
     "output_type": "execute_result"
    }
   ],
   "source": [
    "js.keys()"
   ]
  },
  {
   "cell_type": "code",
   "execution_count": 42,
   "metadata": {},
   "outputs": [
    {
     "data": {
      "text/plain": [
       "[{'entityType': 'hotel',\n",
       "  'id': 653907,\n",
       "  'name': 'Casa Cottage',\n",
       "  'detailUrl': '/Hotel_Review-g297628-d653907-Reviews-Casa_Cottage-Bengaluru_Bangalore_District_Karnataka.html',\n",
       "  'numReviews': 508,\n",
       "  'bubbleRating': 45,\n",
       "  'geoPoint': {'latitude': 12.964365005493164, 'longitude': 77.6042251586914},\n",
       "  'thumbnail': None,\n",
       "  'popIndexText': '#81 of 1,095 Bengaluru hotels',\n",
       "  'accommodationCategory': None,\n",
       "  'offers': [],\n",
       "  'sponsoredListing': None,\n",
       "  'listingKey': '2b7fbc2a-3c29-4655-8a9d-6b80ff272ee0'},\n",
       " {'entityType': 'hotel',\n",
       "  'id': 1585538,\n",
       "  'name': 'Maple Suites, Serviced Residences',\n",
       "  'detailUrl': '/Hotel_Review-g297628-d1585538-Reviews-Maple_Suites_Serviced_Residences-Bengaluru_Bangalore_District_Karnataka.html',\n",
       "  'numReviews': 179,\n",
       "  'bubbleRating': 45,\n",
       "  'geoPoint': {'latitude': 12.905165672302246, 'longitude': 77.60383605957031},\n",
       "  'thumbnail': None,\n",
       "  'popIndexText': '#80 of 1,095 Bengaluru hotels',\n",
       "  'accommodationCategory': None,\n",
       "  'offers': [],\n",
       "  'sponsoredListing': None,\n",
       "  'listingKey': '766b52bb-8635-4d5c-9343-06bdcb721dac'},\n",
       " {'entityType': 'hotel',\n",
       "  'id': 1015286,\n",
       "  'name': 'Fortune Select Trinity',\n",
       "  'detailUrl': '/Hotel_Review-g297628-d1015286-Reviews-Fortune_Select_Trinity-Bengaluru_Bangalore_District_Karnataka.html',\n",
       "  'numReviews': 569,\n",
       "  'bubbleRating': 40,\n",
       "  'geoPoint': {'latitude': 12.977380752563477, 'longitude': 77.71446228027344},\n",
       "  'thumbnail': None,\n",
       "  'popIndexText': '#98 of 1,095 Bengaluru hotels',\n",
       "  'accommodationCategory': None,\n",
       "  'offers': [],\n",
       "  'sponsoredListing': None,\n",
       "  'listingKey': 'ed3d81cd-bc04-45a7-9d27-d75d55eee47e'},\n",
       " {'entityType': 'hotel',\n",
       "  'id': 6781827,\n",
       "  'name': 'Ibis Bengaluru City Centre Hotel',\n",
       "  'detailUrl': '/Hotel_Review-g297628-d6781827-Reviews-Ibis_Bengaluru_City_Centre_Hotel-Bengaluru_Bangalore_District_Karnataka.html',\n",
       "  'numReviews': 963,\n",
       "  'bubbleRating': 45,\n",
       "  'geoPoint': {'latitude': 12.967448234558105, 'longitude': 77.59390258789062},\n",
       "  'thumbnail': None,\n",
       "  'popIndexText': '#65 of 1,095 Bengaluru hotels',\n",
       "  'accommodationCategory': None,\n",
       "  'offers': [],\n",
       "  'sponsoredListing': None,\n",
       "  'listingKey': '845f6aad-2fa5-4b30-a7bc-8d3b81b96a8e'},\n",
       " {'entityType': 'hotel',\n",
       "  'id': 9725494,\n",
       "  'name': 'Tulip Inn Bangalore',\n",
       "  'detailUrl': '/Hotel_Review-g297628-d9725494-Reviews-Tulip_Inn_Bangalore-Bengaluru_Bangalore_District_Karnataka.html',\n",
       "  'numReviews': 144,\n",
       "  'bubbleRating': 45,\n",
       "  'geoPoint': {'latitude': 12.999216079711914, 'longitude': 77.5836410522461},\n",
       "  'thumbnail': None,\n",
       "  'popIndexText': '#107 of 1,095 Bengaluru hotels',\n",
       "  'accommodationCategory': None,\n",
       "  'offers': [],\n",
       "  'sponsoredListing': None,\n",
       "  'listingKey': '55f78280-3e59-4edc-b7f1-7af669ff3ef8'},\n",
       " {'entityType': 'hotel',\n",
       "  'id': 4508843,\n",
       "  'name': 'Ramada Encore by Wyndham Bangalore Domlur',\n",
       "  'detailUrl': '/Hotel_Review-g297628-d4508843-Reviews-Ramada_Encore_by_Wyndham_Bangalore_Domlur-Bengaluru_Bangalore_District_Karnataka.html',\n",
       "  'numReviews': 659,\n",
       "  'bubbleRating': 45,\n",
       "  'geoPoint': {'latitude': 12.955479621887207, 'longitude': 77.64114379882812},\n",
       "  'thumbnail': None,\n",
       "  'popIndexText': '#67 of 1,095 Bengaluru hotels',\n",
       "  'accommodationCategory': None,\n",
       "  'offers': [],\n",
       "  'sponsoredListing': None,\n",
       "  'listingKey': '7b1af87c-3b7c-45ab-b494-390f6397d340'},\n",
       " {'entityType': 'hotel',\n",
       "  'id': 1993170,\n",
       "  'name': 'Villa Camelot',\n",
       "  'detailUrl': '/Hotel_Review-g297628-d1993170-Reviews-Villa_Camelot-Bengaluru_Bangalore_District_Karnataka.html',\n",
       "  'numReviews': 79,\n",
       "  'bubbleRating': 50,\n",
       "  'geoPoint': {'latitude': 13.014559745788574, 'longitude': 77.63802337646484},\n",
       "  'thumbnail': None,\n",
       "  'popIndexText': '#7 of 681 Bengaluru B&amp;B and Inns',\n",
       "  'accommodationCategory': 'Bed and Breakfast',\n",
       "  'offers': [],\n",
       "  'sponsoredListing': None,\n",
       "  'listingKey': '54cc9039-0137-44f4-a46d-c5a69b5caed4'},\n",
       " {'entityType': 'hotel',\n",
       "  'id': 582092,\n",
       "  'name': 'Treebo Tryst Monarch',\n",
       "  'detailUrl': '/Hotel_Review-g297628-d582092-Reviews-Treebo_Tryst_Monarch-Bengaluru_Bangalore_District_Karnataka.html',\n",
       "  'numReviews': 481,\n",
       "  'bubbleRating': 45,\n",
       "  'geoPoint': {'latitude': 12.974054336547852, 'longitude': 77.60768127441406},\n",
       "  'thumbnail': None,\n",
       "  'popIndexText': '#59 of 1,095 Bengaluru hotels',\n",
       "  'accommodationCategory': None,\n",
       "  'offers': [],\n",
       "  'sponsoredListing': None,\n",
       "  'listingKey': 'ab0b0f74-3444-4b7a-8f0e-1c379613d82a'},\n",
       " {'entityType': 'hotel',\n",
       "  'id': 735365,\n",
       "  'name': 'The Monarch Luxur',\n",
       "  'detailUrl': '/Hotel_Review-g297628-d735365-Reviews-The_Monarch_Luxur-Bengaluru_Bangalore_District_Karnataka.html',\n",
       "  'numReviews': 1468,\n",
       "  'bubbleRating': 45,\n",
       "  'geoPoint': {'latitude': 12.980278015136719, 'longitude': 77.60506439208984},\n",
       "  'thumbnail': None,\n",
       "  'popIndexText': '#10 of 1,095 Bengaluru hotels',\n",
       "  'accommodationCategory': None,\n",
       "  'offers': [],\n",
       "  'sponsoredListing': None,\n",
       "  'listingKey': 'fa9c18e4-892d-44e6-a1f1-2194088cbb7e'},\n",
       " {'entityType': 'hotel',\n",
       "  'id': 2443500,\n",
       "  'name': 'Citrus Bangalore',\n",
       "  'detailUrl': '/Hotel_Review-g297628-d2443500-Reviews-Citrus_Bangalore-Bengaluru_Bangalore_District_Karnataka.html',\n",
       "  'numReviews': 468,\n",
       "  'bubbleRating': 45,\n",
       "  'geoPoint': {'latitude': 12.92326545715332, 'longitude': 77.6715316772461},\n",
       "  'thumbnail': None,\n",
       "  'popIndexText': '#58 of 1,095 Bengaluru hotels',\n",
       "  'accommodationCategory': None,\n",
       "  'offers': [],\n",
       "  'sponsoredListing': None,\n",
       "  'listingKey': '228745e8-cf5c-43c3-9c3e-01bcd2d240a1'},\n",
       " {'entityType': 'hotel',\n",
       "  'id': 301635,\n",
       "  'name': 'The Park Bangalore',\n",
       "  'detailUrl': '/Hotel_Review-g297628-d301635-Reviews-The_Park_Bangalore-Bengaluru_Bangalore_District_Karnataka.html',\n",
       "  'numReviews': 1704,\n",
       "  'bubbleRating': 40,\n",
       "  'geoPoint': {'latitude': 12.97400188446045, 'longitude': 77.6198501586914},\n",
       "  'thumbnail': None,\n",
       "  'popIndexText': '#91 of 1,095 Bengaluru hotels',\n",
       "  'accommodationCategory': None,\n",
       "  'offers': [],\n",
       "  'sponsoredListing': None,\n",
       "  'listingKey': '8a105039-cc89-4ab8-9b60-043598269fb0'},\n",
       " {'entityType': 'hotel',\n",
       "  'id': 1400050,\n",
       "  'name': 'JP Cordial',\n",
       "  'detailUrl': '/Hotel_Review-g297628-d1400050-Reviews-JP_Cordial-Bengaluru_Bangalore_District_Karnataka.html',\n",
       "  'numReviews': 260,\n",
       "  'bubbleRating': 45,\n",
       "  'geoPoint': {'latitude': 12.979227066040039, 'longitude': 77.57466888427734},\n",
       "  'thumbnail': None,\n",
       "  'popIndexText': '#97 of 1,095 Bengaluru hotels',\n",
       "  'accommodationCategory': None,\n",
       "  'offers': [],\n",
       "  'sponsoredListing': None,\n",
       "  'listingKey': 'd9a2413e-b536-48fc-92b8-b8af33b3ae89'},\n",
       " {'entityType': 'hotel',\n",
       "  'id': 503249,\n",
       "  'name': 'Royal Orchid Central',\n",
       "  'detailUrl': '/Hotel_Review-g297628-d503249-Reviews-Royal_Orchid_Central-Bengaluru_Bangalore_District_Karnataka.html',\n",
       "  'numReviews': 1428,\n",
       "  'bubbleRating': 40,\n",
       "  'geoPoint': {'latitude': 12.975137710571289, 'longitude': 77.6153335571289},\n",
       "  'thumbnail': None,\n",
       "  'popIndexText': '#62 of 1,095 Bengaluru hotels',\n",
       "  'accommodationCategory': None,\n",
       "  'offers': [],\n",
       "  'sponsoredListing': None,\n",
       "  'listingKey': 'd8a72db7-c826-4f23-a7c7-604a33d781bb'},\n",
       " {'entityType': 'hotel',\n",
       "  'id': 14943807,\n",
       "  'name': 'Radisson Bengaluru City Center',\n",
       "  'detailUrl': '/Hotel_Review-g297628-d14943807-Reviews-Radisson_Bengaluru_City_Center-Bengaluru_Bangalore_District_Karnataka.html',\n",
       "  'numReviews': 195,\n",
       "  'bubbleRating': 45,\n",
       "  'geoPoint': {'latitude': 12.976365089416504, 'longitude': 77.61955261230469},\n",
       "  'thumbnail': None,\n",
       "  'popIndexText': '#45 of 1,095 Bengaluru hotels',\n",
       "  'accommodationCategory': None,\n",
       "  'offers': [],\n",
       "  'sponsoredListing': None,\n",
       "  'listingKey': '6c4e8c08-35e0-4150-adc9-5b2695cbedfb'},\n",
       " {'entityType': 'hotel',\n",
       "  'id': 6164380,\n",
       "  'name': 'Golden Tulip Bangalore Electronics City',\n",
       "  'detailUrl': '/Hotel_Review-g297628-d6164380-Reviews-Golden_Tulip_Bangalore_Electronics_City-Bengaluru_Bangalore_District_Karnataka.html',\n",
       "  'numReviews': 226,\n",
       "  'bubbleRating': 40,\n",
       "  'geoPoint': {'latitude': 12.840134620666504, 'longitude': 77.65962219238281},\n",
       "  'thumbnail': None,\n",
       "  'popIndexText': '#100 of 1,095 Bengaluru hotels',\n",
       "  'accommodationCategory': None,\n",
       "  'offers': [],\n",
       "  'sponsoredListing': None,\n",
       "  'listingKey': '3cceac10-9868-499a-91b1-3ae01c9fb19d'},\n",
       " {'entityType': 'hotel',\n",
       "  'id': 1870847,\n",
       "  'name': 'Miraya Hotel Whitefield Bengaluru',\n",
       "  'detailUrl': '/Hotel_Review-g297628-d1870847-Reviews-Miraya_Hotel_Whitefield_Bengaluru-Bengaluru_Bangalore_District_Karnataka.html',\n",
       "  'numReviews': 723,\n",
       "  'bubbleRating': 45,\n",
       "  'geoPoint': {'latitude': 12.956480026245117, 'longitude': 77.7342529296875},\n",
       "  'thumbnail': None,\n",
       "  'popIndexText': '#93 of 1,095 Bengaluru hotels',\n",
       "  'accommodationCategory': None,\n",
       "  'offers': [],\n",
       "  'sponsoredListing': None,\n",
       "  'listingKey': '4940a13e-e8e6-463d-bdb3-2a9617d18190'},\n",
       " {'entityType': 'hotel',\n",
       "  'id': 11998072,\n",
       "  'name': 'Radisson Blu Atria Bengaluru',\n",
       "  'detailUrl': '/Hotel_Review-g297628-d11998072-Reviews-Radisson_Blu_Atria_Bengaluru-Bengaluru_Bangalore_District_Karnataka.html',\n",
       "  'numReviews': 642,\n",
       "  'bubbleRating': 45,\n",
       "  'geoPoint': {'latitude': 12.979873657226562, 'longitude': 77.58627319335938},\n",
       "  'thumbnail': None,\n",
       "  'popIndexText': '#74 of 1,095 Bengaluru hotels',\n",
       "  'accommodationCategory': None,\n",
       "  'offers': [],\n",
       "  'sponsoredListing': None,\n",
       "  'listingKey': 'dc0c12ef-759e-415b-8f45-39556b791d35'},\n",
       " {'entityType': 'hotel',\n",
       "  'id': 678020,\n",
       "  'name': 'The Elanza Hotel',\n",
       "  'detailUrl': '/Hotel_Review-g297628-d678020-Reviews-The_Elanza_Hotel-Bengaluru_Bangalore_District_Karnataka.html',\n",
       "  'numReviews': 686,\n",
       "  'bubbleRating': 45,\n",
       "  'geoPoint': {'latitude': 12.965376853942871, 'longitude': 77.60201263427734},\n",
       "  'thumbnail': None,\n",
       "  'popIndexText': '#96 of 1,095 Bengaluru hotels',\n",
       "  'accommodationCategory': None,\n",
       "  'offers': [],\n",
       "  'sponsoredListing': None,\n",
       "  'listingKey': 'c89f9721-b326-44cd-be57-7424cd7497a5'},\n",
       " {'entityType': 'hotel',\n",
       "  'id': 1437795,\n",
       "  'name': 'The Citadel Hotel',\n",
       "  'detailUrl': '/Hotel_Review-g297628-d1437795-Reviews-The_Citadel_Hotel-Bengaluru_Bangalore_District_Karnataka.html',\n",
       "  'numReviews': 376,\n",
       "  'bubbleRating': 40,\n",
       "  'geoPoint': {'latitude': 12.98080062866211, 'longitude': 77.57538604736328},\n",
       "  'thumbnail': None,\n",
       "  'popIndexText': '#99 of 1,095 Bengaluru hotels',\n",
       "  'accommodationCategory': None,\n",
       "  'offers': [],\n",
       "  'sponsoredListing': None,\n",
       "  'listingKey': '9a6a1ecb-9db9-4706-9717-531e40b48e98'},\n",
       " {'entityType': 'hotel',\n",
       "  'id': 8587934,\n",
       "  'name': 'Shangri-La Hotel Bengaluru',\n",
       "  'detailUrl': '/Hotel_Review-g297628-d8587934-Reviews-Shangri_La_Hotel_Bengaluru-Bengaluru_Bangalore_District_Karnataka.html',\n",
       "  'numReviews': 1257,\n",
       "  'bubbleRating': 45,\n",
       "  'geoPoint': {'latitude': 12.992254257202148, 'longitude': 77.58837890625},\n",
       "  'thumbnail': None,\n",
       "  'popIndexText': '#28 of 1,095 Bengaluru hotels',\n",
       "  'accommodationCategory': None,\n",
       "  'offers': [],\n",
       "  'sponsoredListing': None,\n",
       "  'listingKey': '4c8473c8-5bd5-4b1a-96b9-379857b7d3af'},\n",
       " {'entityType': 'hotel',\n",
       "  'id': 1023579,\n",
       "  'name': 'Laika Boutique Stay',\n",
       "  'detailUrl': '/Hotel_Review-g297628-d1023579-Reviews-Laika_Boutique_Stay-Bengaluru_Bangalore_District_Karnataka.html',\n",
       "  'numReviews': 314,\n",
       "  'bubbleRating': 50,\n",
       "  'geoPoint': {'latitude': 12.97041130065918, 'longitude': 77.6168212890625},\n",
       "  'thumbnail': None,\n",
       "  'popIndexText': '#3 of 681 Bengaluru B&amp;B and Inns',\n",
       "  'accommodationCategory': 'Small Hotel',\n",
       "  'offers': [],\n",
       "  'sponsoredListing': None,\n",
       "  'listingKey': '1f37abf3-0ffe-4f70-a7be-3071310052e9'},\n",
       " {'entityType': 'hotel',\n",
       "  'id': 3721806,\n",
       "  'name': 'Holiday Inn Express Bengaluru Whitefield ITPL',\n",
       "  'detailUrl': '/Hotel_Review-g297628-d3721806-Reviews-Holiday_Inn_Express_Bengaluru_Whitefield_ITPL-Bengaluru_Bangalore_District_Karnataka.html',\n",
       "  'numReviews': 98,\n",
       "  'bubbleRating': 45,\n",
       "  'geoPoint': {'latitude': 12.98654842376709, 'longitude': 77.73271942138672},\n",
       "  'thumbnail': None,\n",
       "  'popIndexText': '#87 of 1,095 Bengaluru hotels',\n",
       "  'accommodationCategory': None,\n",
       "  'offers': [],\n",
       "  'sponsoredListing': None,\n",
       "  'listingKey': '42d21e46-c4a9-4bcc-9f7f-81cd1f8af070'},\n",
       " {'entityType': 'hotel',\n",
       "  'id': 546040,\n",
       "  'name': 'Hotel Swagath',\n",
       "  'detailUrl': '/Hotel_Review-g297628-d546040-Reviews-Hotel_Swagath-Bengaluru_Bangalore_District_Karnataka.html',\n",
       "  'numReviews': 442,\n",
       "  'bubbleRating': 45,\n",
       "  'geoPoint': {'latitude': 12.973770141601562, 'longitude': 77.57577514648438},\n",
       "  'thumbnail': None,\n",
       "  'popIndexText': '#31 of 1,095 Bengaluru hotels',\n",
       "  'accommodationCategory': None,\n",
       "  'offers': [],\n",
       "  'sponsoredListing': None,\n",
       "  'listingKey': '5ff80a36-9887-4736-a5bd-786d90cc4f5b'},\n",
       " {'entityType': 'hotel',\n",
       "  'id': 1797807,\n",
       "  'name': 'Svenska Design Hotel',\n",
       "  'detailUrl': '/Hotel_Review-g297628-d1797807-Reviews-Svenska_Design_Hotel-Bengaluru_Bangalore_District_Karnataka.html',\n",
       "  'numReviews': 461,\n",
       "  'bubbleRating': 45,\n",
       "  'geoPoint': {'latitude': 12.839326858520508, 'longitude': 77.6592025756836},\n",
       "  'thumbnail': None,\n",
       "  'popIndexText': '#92 of 1,095 Bengaluru hotels',\n",
       "  'accommodationCategory': None,\n",
       "  'offers': [],\n",
       "  'sponsoredListing': None,\n",
       "  'listingKey': 'f920a6fb-4942-4a75-9b69-8b7c813a625d'},\n",
       " {'entityType': 'hotel',\n",
       "  'id': 6592156,\n",
       "  'name': 'Citrus Cunningham',\n",
       "  'detailUrl': '/Hotel_Review-g297628-d6592156-Reviews-Citrus_Cunningham-Bengaluru_Bangalore_District_Karnataka.html',\n",
       "  'numReviews': 415,\n",
       "  'bubbleRating': 45,\n",
       "  'geoPoint': {'latitude': 12.98610782623291, 'longitude': 77.595458984375},\n",
       "  'thumbnail': None,\n",
       "  'popIndexText': '#63 of 1,095 Bengaluru hotels',\n",
       "  'accommodationCategory': None,\n",
       "  'offers': [],\n",
       "  'sponsoredListing': None,\n",
       "  'listingKey': '40954a55-6de8-4e8a-bd47-4d0bec8dfbdd'},\n",
       " {'entityType': 'hotel',\n",
       "  'id': 1471779,\n",
       "  'name': 'Fortune Park JP Celestial',\n",
       "  'detailUrl': '/Hotel_Review-g297628-d1471779-Reviews-Fortune_Park_JP_Celestial-Bengaluru_Bangalore_District_Karnataka.html',\n",
       "  'numReviews': 652,\n",
       "  'bubbleRating': 40,\n",
       "  'geoPoint': {'latitude': 12.980853080749512, 'longitude': 77.57589721679688},\n",
       "  'thumbnail': None,\n",
       "  'popIndexText': '#105 of 1,095 Bengaluru hotels',\n",
       "  'accommodationCategory': None,\n",
       "  'offers': [],\n",
       "  'sponsoredListing': None,\n",
       "  'listingKey': 'f0d28fb3-3a4a-4d3d-af83-dcd9ff6d5a91'},\n",
       " {'entityType': 'hotel',\n",
       "  'id': 12825343,\n",
       "  'name': 'Zone by the Park Electronic City Bengaluru',\n",
       "  'detailUrl': '/Hotel_Review-g297628-d12825343-Reviews-Zone_by_the_Park_Electronic_City_Bengaluru-Bengaluru_Bangalore_District_Karnataka.html',\n",
       "  'numReviews': 162,\n",
       "  'bubbleRating': 45,\n",
       "  'geoPoint': {'latitude': 12.84522533416748, 'longitude': 77.66527557373047},\n",
       "  'thumbnail': None,\n",
       "  'popIndexText': '#95 of 1,095 Bengaluru hotels',\n",
       "  'accommodationCategory': None,\n",
       "  'offers': [],\n",
       "  'sponsoredListing': None,\n",
       "  'listingKey': '8d69153c-a520-4956-8769-0d9009f23e6f'},\n",
       " {'entityType': 'hotel',\n",
       "  'id': 602617,\n",
       "  'name': 'Palm Meadows Club',\n",
       "  'detailUrl': '/Hotel_Review-g297628-d602617-Reviews-Palm_Meadows_Club-Bengaluru_Bangalore_District_Karnataka.html',\n",
       "  'numReviews': 295,\n",
       "  'bubbleRating': 40,\n",
       "  'geoPoint': {'latitude': 12.964052200317383, 'longitude': 77.73954772949219},\n",
       "  'thumbnail': None,\n",
       "  'popIndexText': '#102 of 1,095 Bengaluru hotels',\n",
       "  'accommodationCategory': None,\n",
       "  'offers': [],\n",
       "  'sponsoredListing': None,\n",
       "  'listingKey': 'fcde0cd5-de95-46a9-8308-40df08426057'},\n",
       " {'entityType': 'hotel',\n",
       "  'id': 3842161,\n",
       "  'name': 'Springs Hotel & Spa',\n",
       "  'detailUrl': '/Hotel_Review-g297628-d3842161-Reviews-Springs_Hotel_Spa-Bengaluru_Bangalore_District_Karnataka.html',\n",
       "  'numReviews': 285,\n",
       "  'bubbleRating': 40,\n",
       "  'geoPoint': {'latitude': 12.956613540649414, 'longitude': 77.5835189819336},\n",
       "  'thumbnail': None,\n",
       "  'popIndexText': '#103 of 1,095 Bengaluru hotels',\n",
       "  'accommodationCategory': None,\n",
       "  'offers': [],\n",
       "  'sponsoredListing': None,\n",
       "  'listingKey': 'a2f8ce95-61a5-4d2c-9dcd-7c6b58649477'},\n",
       " {'entityType': 'hotel',\n",
       "  'id': 8874013,\n",
       "  'name': 'Silverstar Hotel',\n",
       "  'detailUrl': '/Hotel_Review-g297628-d8874013-Reviews-Silverstar_Hotel-Bengaluru_Bangalore_District_Karnataka.html',\n",
       "  'numReviews': 303,\n",
       "  'bubbleRating': 40,\n",
       "  'geoPoint': {'latitude': 12.979161262512207, 'longitude': 77.57909393310547},\n",
       "  'thumbnail': None,\n",
       "  'popIndexText': '#101 of 1,095 Bengaluru hotels',\n",
       "  'accommodationCategory': None,\n",
       "  'offers': [],\n",
       "  'sponsoredListing': None,\n",
       "  'listingKey': 'f662bffd-1504-4a72-8c42-12feadff7fe5'}]"
      ]
     },
     "execution_count": 42,
     "metadata": {},
     "output_type": "execute_result"
    }
   ],
   "source": [
    "js['hotels']"
   ]
  },
  {
   "cell_type": "code",
   "execution_count": 46,
   "metadata": {},
   "outputs": [
    {
     "data": {
      "text/plain": [
       "{'entityType': 'hotel',\n",
       " 'id': 735365,\n",
       " 'name': 'The Monarch Luxur',\n",
       " 'detailUrl': '/Hotel_Review-g297628-d735365-Reviews-The_Monarch_Luxur-Bengaluru_Bangalore_District_Karnataka.html',\n",
       " 'numReviews': 1468,\n",
       " 'bubbleRating': 45,\n",
       " 'geoPoint': {'latitude': 12.980278015136719, 'longitude': 77.60506439208984},\n",
       " 'thumbnail': None,\n",
       " 'popIndexText': '#10 of 1,095 Bengaluru hotels',\n",
       " 'accommodationCategory': None,\n",
       " 'offers': [],\n",
       " 'sponsoredListing': None,\n",
       " 'listingKey': 'fa9c18e4-892d-44e6-a1f1-2194088cbb7e'}"
      ]
     },
     "execution_count": 46,
     "metadata": {},
     "output_type": "execute_result"
    }
   ],
   "source": [
    "js['hotels'][8]"
   ]
  },
  {
   "cell_type": "code",
   "execution_count": 45,
   "metadata": {},
   "outputs": [
    {
     "data": {
      "text/plain": [
       "12.964365005493164"
      ]
     },
     "execution_count": 45,
     "metadata": {},
     "output_type": "execute_result"
    }
   ],
   "source": [
    "js['hotels'][0]['geoPoint']['latitude']"
   ]
  },
  {
   "cell_type": "code",
   "execution_count": 49,
   "metadata": {},
   "outputs": [],
   "source": [
    "a=\"jk jlk lk jljkljk lk\""
   ]
  },
  {
   "cell_type": "code",
   "execution_count": 51,
   "metadata": {},
   "outputs": [],
   "source": [
    "lst= a.split()"
   ]
  },
  {
   "cell_type": "code",
   "execution_count": 52,
   "metadata": {},
   "outputs": [
    {
     "data": {
      "text/plain": [
       "{'jk', 'jljkljk', 'jlk', 'lk'}"
      ]
     },
     "execution_count": 52,
     "metadata": {},
     "output_type": "execute_result"
    }
   ],
   "source": [
    "set(lst)"
   ]
  },
  {
   "cell_type": "code",
   "execution_count": 53,
   "metadata": {},
   "outputs": [],
   "source": [
    "i =[1,2,2,4,5,24,2,214,6]"
   ]
  },
  {
   "cell_type": "code",
   "execution_count": 54,
   "metadata": {},
   "outputs": [],
   "source": [
    "a = []\n",
    "for j in i:\n",
    "    a.append(j)"
   ]
  },
  {
   "cell_type": "code",
   "execution_count": 55,
   "metadata": {},
   "outputs": [
    {
     "data": {
      "text/plain": [
       "[1, 2, 2, 4, 5, 24, 2, 214, 6]"
      ]
     },
     "execution_count": 55,
     "metadata": {},
     "output_type": "execute_result"
    }
   ],
   "source": [
    "a"
   ]
  },
  {
   "cell_type": "code",
   "execution_count": null,
   "metadata": {},
   "outputs": [],
   "source": []
  }
 ],
 "metadata": {
  "kernelspec": {
   "display_name": "Python 3",
   "language": "python",
   "name": "python3"
  },
  "language_info": {
   "codemirror_mode": {
    "name": "ipython",
    "version": 3
   },
   "file_extension": ".py",
   "mimetype": "text/x-python",
   "name": "python",
   "nbconvert_exporter": "python",
   "pygments_lexer": "ipython3",
   "version": "3.7.3"
  }
 },
 "nbformat": 4,
 "nbformat_minor": 2
}
